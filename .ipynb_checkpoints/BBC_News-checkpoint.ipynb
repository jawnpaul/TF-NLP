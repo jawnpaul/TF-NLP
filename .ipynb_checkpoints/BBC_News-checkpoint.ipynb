{
 "cells": [
  {
   "cell_type": "code",
   "execution_count": 1,
   "metadata": {
    "colab": {
     "base_uri": "https://localhost:8080/",
     "height": 34
    },
    "colab_type": "code",
    "id": "mjsUKFQ0Zbev",
    "outputId": "c044bd7a-0c07-477f-d634-958d4d064074"
   },
   "outputs": [
    {
     "name": "stdout",
     "output_type": "stream",
     "text": [
      "TensorFlow 2.x selected.\n"
     ]
    }
   ],
   "source": [
    "# Run this to ensure TensorFlow 2.x is used\n",
    "try:\n",
    "  # %tensorflow_version only exists in Colab.\n",
    "  %tensorflow_version 2.x\n",
    "except Exception:\n",
    "  pass"
   ]
  },
  {
   "cell_type": "code",
   "execution_count": 2,
   "metadata": {
    "colab": {
     "base_uri": "https://localhost:8080/",
     "height": 34
    },
    "colab_type": "code",
    "id": "f6HII-nIZLE1",
    "outputId": "a75a403a-f3ed-4041-9878-407b2d83dd4d"
   },
   "outputs": [
    {
     "name": "stdout",
     "output_type": "stream",
     "text": [
      "2.1.0\n"
     ]
    }
   ],
   "source": [
    "import tensorflow as tf\n",
    "print(tf.__version__)"
   ]
  },
  {
   "cell_type": "code",
   "execution_count": 3,
   "metadata": {
    "colab": {
     "base_uri": "https://localhost:8080/",
     "height": 68
    },
    "colab_type": "code",
    "id": "pFgorEQgZjZm",
    "outputId": "fec3add1-57d9-49a4-b046-8b4e2f8c028e"
   },
   "outputs": [
    {
     "name": "stdout",
     "output_type": "stream",
     "text": [
      "[nltk_data] Downloading package stopwords to /root/nltk_data...\n",
      "[nltk_data]   Unzipping corpora/stopwords.zip.\n"
     ]
    },
    {
     "data": {
      "text/plain": [
       "True"
      ]
     },
     "execution_count": 3,
     "metadata": {
      "tags": []
     },
     "output_type": "execute_result"
    }
   ],
   "source": [
    "import nltk\n",
    "nltk.download('stopwords')"
   ]
  },
  {
   "cell_type": "code",
   "execution_count": 0,
   "metadata": {
    "colab": {},
    "colab_type": "code",
    "id": "nSRtcesaZy2E"
   },
   "outputs": [],
   "source": [
    "import csv\n",
    "import tensorflow as tf\n",
    "import numpy as np\n",
    "from tensorflow.keras.preprocessing.text import Tokenizer\n",
    "from tensorflow.keras.preprocessing.sequence import pad_sequences\n",
    "from nltk.corpus import stopwords\n",
    "STOPWORDS = set(stopwords.words('english'))"
   ]
  },
  {
   "cell_type": "code",
   "execution_count": 0,
   "metadata": {
    "colab": {},
    "colab_type": "code",
    "id": "6ayRFuw2Z7QX"
   },
   "outputs": [],
   "source": [
    "vocab_size = 5000\n",
    "embedding_dim = 64\n",
    "max_length = 200\n",
    "trunc_type = 'post'\n",
    "padding_type = 'post'\n",
    "oov_tok = '<OOV>'\n",
    "training_portion = .8"
   ]
  },
  {
   "cell_type": "code",
   "execution_count": 7,
   "metadata": {
    "colab": {
     "base_uri": "https://localhost:8080/",
     "height": 51
    },
    "colab_type": "code",
    "id": "B3-r3bMjZ9rG",
    "outputId": "b2f9bef3-77e3-4b8c-9e6f-bc094d35889b"
   },
   "outputs": [
    {
     "name": "stdout",
     "output_type": "stream",
     "text": [
      "2225\n",
      "2225\n"
     ]
    }
   ],
   "source": [
    "articles = []\n",
    "labelsList = []\n",
    "\n",
    "#raw_data = pd.read_csv('/content/drive/My Drive/new_transaction.csv')\n",
    "\n",
    "with open(\"/content/drive/My Drive/bbc-text.csv\", 'r') as csvfile:\n",
    "    reader = csv.reader(csvfile, delimiter=',')\n",
    "    next(reader)\n",
    "    for row in reader:\n",
    "        labelsList.append(row[0])\n",
    "        article = row[1]\n",
    "        for word in STOPWORDS:\n",
    "            token = ' ' + word + ' '\n",
    "            article = article.replace(token, ' ')\n",
    "            article = article.replace(' ', ' ')\n",
    "        articles.append(article)\n",
    "print(len(labelsList))\n",
    "print(len(articles))"
   ]
  },
  {
   "cell_type": "code",
   "execution_count": 8,
   "metadata": {
    "colab": {
     "base_uri": "https://localhost:8080/",
     "height": 54
    },
    "colab_type": "code",
    "id": "G9wOKBlRBvmI",
    "outputId": "c702a961-5b30-4357-c22c-cb1b00c54497"
   },
   "outputs": [
    {
     "name": "stdout",
     "output_type": "stream",
     "text": [
      "['tech', 'business', 'sport', 'sport', 'entertainment', 'politics', 'politics', 'sport', 'sport', 'entertainment']\n"
     ]
    }
   ],
   "source": [
    "#for d in labelsSet:\n",
    "#\tprint(d)\n",
    " \n",
    "print(labelsList[0:10])"
   ]
  },
  {
   "cell_type": "code",
   "execution_count": 9,
   "metadata": {
    "colab": {
     "base_uri": "https://localhost:8080/",
     "height": 207
    },
    "colab_type": "code",
    "id": "RyGWrs8GF_cD",
    "outputId": "5708583b-87a3-448b-b0db-a99318616560"
   },
   "outputs": [
    {
     "name": "stdout",
     "output_type": "stream",
     "text": [
      "[0, 1, 2, 2, 3, 4, 4, 2, 2, 3, 3, 1, 1, 4, 2, 1, 4, 2, 1, 0, 0, 0, 2, 2, 0, 2, 3, 0, 4, 3, 4, 0, 3, 3, 1, 4, 0, 3, 4, 1, 4, 2, 1, 2, 0, 3, 4, 4, 4, 1, 2, 4, 1, 1, 2, 4, 1, 2, 2, 1, 1, 2, 1, 2, 1, 0, 1, 3, 0, 1, 4, 1, 4, 2, 1, 0, 1, 2, 2, 1, 1, 2, 4, 1, 3, 4, 4, 1, 3, 1, 2, 2, 4, 2, 4, 2, 1, 2, 1, 3, 3, 2, 1, 4, 4, 0, 2, 3, 2, 0, 1, 3, 2, 3, 2, 3, 3, 4, 2, 2, 3, 4, 1, 0, 1, 1, 0, 2, 4, 2, 0, 3, 2, 1, 1, 0, 3, 0, 2, 1, 1, 1, 0, 2, 0, 1, 2, 3, 2, 0, 2, 0, 4, 1, 0, 3, 2, 1, 4, 1, 3, 4, 4, 3, 4, 1, 3, 4, 4, 3, 4, 2, 1, 4, 4, 1, 3, 2, 1, 1, 2, 0, 2, 0, 0, 2, 1, 2, 4, 3, 4, 1, 4, 1, 0, 4, 3, 4, 0, 1, 2, 1, 2, 0, 3, 1, 4, 4, 3, 2, 3, 4, 2, 3, 2, 2, 3, 2, 4, 4, 3, 0, 2, 4, 1, 3, 0, 2, 0, 2, 3, 4, 2, 3, 0, 1, 0, 1, 1, 0, 1, 2, 1, 2, 1, 2, 3, 1, 1, 3, 2, 2, 4, 0, 4, 4, 4, 0, 2, 0, 4, 1, 0, 3, 0, 2, 2, 1, 1, 4, 1, 0, 2, 3, 2, 4, 0, 3, 1, 2, 3, 2, 0, 4, 0, 1, 1, 4, 4, 2, 1, 0, 3, 4, 0, 1, 3, 2, 3, 2, 3, 4, 1, 2, 1, 2, 2, 3, 2, 4, 4, 1, 3, 0, 1, 2, 1, 3, 1, 1, 1, 4, 1, 4, 3, 3, 1, 2, 1, 4, 1, 0, 3, 1, 2, 2, 3, 1, 1, 4, 0, 3, 0, 4, 1, 2, 4, 1, 3, 0, 3, 0, 4, 2, 3, 1, 4, 1, 1, 4, 2, 0, 1, 1, 3, 3, 0, 2, 1, 3, 0, 0, 3, 3, 3, 4, 2, 4, 0, 1, 3, 4, 1, 3, 4, 4, 2, 2, 1, 4, 3, 1, 2, 1, 1, 2, 1, 4, 4, 4, 2, 0, 0, 1, 0, 2, 3, 1, 4, 1, 3, 1, 4, 3, 4, 1, 0, 1, 2, 2, 1, 2, 2, 3, 2, 2, 2, 0, 1, 1, 1, 4, 2, 2, 1, 0, 1, 4, 2, 4, 0, 1, 2, 3, 1, 4, 0, 1, 2, 1, 4, 1, 1, 2, 3, 0, 4, 0, 1, 2, 1, 3, 0, 0, 1, 2, 2, 3, 4, 4, 4, 2, 4, 0, 0, 3, 4, 0, 3, 1, 2, 2, 0, 1, 2, 2, 4, 2, 2, 1, 2, 3, 0, 4, 2, 4, 0, 1, 1, 1, 0, 1, 1, 2, 2, 2, 2, 1, 0, 3, 2, 2, 0, 1, 0, 3, 4, 2, 1, 4, 1, 0, 0, 4, 0, 1, 2, 1, 3, 2, 4, 3, 2, 2, 4, 0, 3, 0, 2, 4, 1, 3, 4, 1, 3, 2, 2, 0, 4, 3, 4, 3, 4, 0, 4, 3, 2, 1, 2, 3, 2, 3, 0, 1, 2, 4, 3, 4, 3, 3, 3, 4, 3, 0, 4, 0, 0, 2, 2, 0, 0, 2, 3, 3, 2, 0, 3, 2, 2, 0, 1, 4, 0, 1, 2, 3, 2, 3, 4, 0, 3, 3, 1, 3, 3, 2, 0, 0, 4, 2, 0, 2, 4, 4, 3, 0, 1, 0, 0, 0, 1, 4, 4, 2, 0, 1, 1, 3, 3, 2, 0, 1, 0, 3, 2, 0, 4, 0, 4, 1, 4, 4, 1, 2, 0, 2, 0, 4, 3, 0, 2, 3, 0, 2, 4, 3, 2, 0, 2, 2, 4, 3, 1, 4, 3, 1, 1, 0, 1, 3, 0, 2, 0, 4, 0, 4, 1, 4, 3, 2, 1, 1, 1, 3, 2, 1, 3, 3, 2, 3, 4, 4, 4, 2, 2, 2, 0, 4, 2, 4, 4, 0, 4, 2, 1, 3, 2, 1, 1, 0, 1, 3, 3, 3, 1, 3, 3, 4, 0, 1, 2, 0, 2, 2, 4, 1, 2, 0, 1, 2, 0, 2, 2, 3, 2, 1, 2, 1, 0, 4, 0, 1, 2, 2, 1, 1, 1, 1, 4, 2, 1, 0, 1, 2, 4, 1, 0, 1, 2, 1, 4, 3, 2, 1, 4, 1, 3, 1, 1, 1, 2, 4, 3, 2, 4, 2, 4, 4, 1, 1, 2, 0, 3, 2, 3, 1, 1, 1, 0, 2, 0, 4, 0, 0, 0, 2, 0, 0, 3, 3, 0, 2, 3, 0, 2, 2, 1, 3, 0, 1, 2, 1, 4, 1, 3, 0, 1, 4, 1, 0, 2, 1, 3, 1, 4, 2, 3, 4, 2, 1, 2, 4, 4, 2, 3, 3, 1, 1, 2, 0, 0, 2, 3, 0, 0, 1, 2, 3, 0, 2, 2, 1, 3, 1, 1, 1, 3, 2, 3, 0, 0, 0, 4, 0, 0, 3, 3, 2, 2, 4, 1, 3, 2, 4, 3, 0, 4, 0, 0, 1, 3, 4, 0, 4, 4, 2, 4, 4, 3, 0, 2, 4, 2, 3, 4, 1, 1, 4, 2, 2, 2, 3, 0, 0, 1, 3, 2, 4, 0, 4, 3, 0, 0, 1, 1, 2, 1, 1, 0, 4, 3, 1, 1, 1, 1, 1, 0, 2, 4, 0, 0, 1, 1, 3, 4, 3, 2, 0, 2, 3, 2, 0, 2, 1, 2, 4, 4, 3, 1, 2, 4, 4, 2, 3, 4, 1, 0, 2, 1, 1, 1, 3, 3, 0, 0, 1, 1, 3, 2, 1, 3, 0, 0, 1, 1, 2, 2, 2, 4, 4, 2, 4, 2, 1, 3, 2, 0, 3, 2, 2, 1, 1, 0, 0, 2, 3, 2, 3, 2, 3, 4, 3, 3, 0, 3, 1, 1, 4, 2, 4, 0, 1, 4, 2, 4, 2, 3, 2, 4, 2, 2, 0, 3, 2, 4, 2, 2, 1, 0, 3, 4, 0, 3, 4, 3, 4, 3, 3, 0, 3, 4, 3, 3, 0, 0, 2, 2, 3, 3, 0, 3, 4, 0, 3, 1, 0, 2, 1, 3, 3, 0, 3, 0, 1, 3, 2, 3, 1, 2, 1, 2, 4, 0, 3, 4, 1, 3, 3, 4, 1, 3, 2, 4, 2, 1, 1, 1, 1, 1, 3, 0, 2, 3, 3, 1, 2, 0, 0, 3, 2, 1, 4, 1, 4, 1, 1, 3, 4, 1, 1, 0, 4, 2, 0, 3, 4, 1, 1, 2, 3, 4, 0, 1, 1, 4, 1, 2, 3, 2, 3, 0, 4, 1, 1, 0, 1, 1, 2, 1, 0, 3, 4, 1, 4, 1, 2, 0, 1, 4, 3, 0, 1, 3, 2, 4, 4, 2, 4, 1, 0, 3, 2, 2, 0, 1, 2, 3, 0, 2, 4, 2, 1, 1, 1, 4, 3, 2, 4, 0, 1, 1, 0, 3, 3, 0, 0, 2, 2, 3, 0, 3, 2, 4, 0, 1, 2, 3, 1, 1, 3, 2, 1, 2, 0, 4, 4, 0, 3, 4, 3, 1, 1, 4, 2, 0, 2, 2, 2, 4, 1, 2, 1, 0, 2, 1, 1, 2, 4, 0, 2, 1, 0, 2, 2, 1, 1, 1, 1, 4, 3, 0, 1, 1, 2, 1, 3, 1, 3, 2, 4, 1, 1, 0, 3, 1, 1, 1, 4, 1, 4, 0, 3, 4, 3, 2, 0, 4, 1, 0, 2, 1, 1, 3, 0, 1, 1, 2, 2, 3, 2, 4, 2, 1, 2, 1, 4, 4, 1, 4, 0, 3, 2, 1, 3, 2, 4, 4, 0, 3, 1, 4, 4, 2, 0, 1, 2, 3, 2, 3, 2, 1, 2, 4, 3, 0, 1, 2, 4, 0, 2, 3, 1, 2, 3, 2, 0, 2, 0, 4, 2, 1, 3, 0, 0, 4, 0, 3, 0, 2, 1, 0, 1, 3, 2, 0, 4, 4, 4, 4, 3, 3, 3, 1, 4, 4, 2, 2, 0, 2, 4, 1, 1, 0, 2, 0, 1, 0, 4, 4, 2, 1, 4, 2, 1, 0, 1, 1, 3, 3, 2, 1, 0, 0, 4, 1, 4, 2, 3, 3, 4, 4, 1, 1, 0, 0, 2, 2, 4, 0, 2, 0, 1, 2, 1, 4, 2, 3, 1, 0, 4, 3, 0, 1, 2, 3, 0, 0, 3, 4, 0, 3, 2, 3, 2, 2, 2, 4, 0, 2, 1, 2, 2, 1, 0, 2, 1, 3, 4, 0, 2, 4, 0, 3, 4, 2, 4, 0, 1, 3, 2, 4, 1, 0, 0, 0, 4, 1, 2, 4, 3, 0, 3, 2, 0, 1, 4, 3, 0, 4, 2, 2, 1, 3, 1, 1, 4, 1, 1, 4, 0, 3, 4, 3, 3, 1, 4, 2, 4, 3, 2, 3, 4, 3, 3, 3, 1, 2, 4, 2, 3, 0, 0, 1, 4, 3, 1, 2, 1, 4, 4, 1, 2, 0, 0, 0, 1, 4, 4, 1, 2, 2, 3, 1, 2, 2, 4, 4, 4, 3, 4, 1, 0, 1, 4, 3, 3, 1, 2, 4, 3, 2, 3, 4, 4, 1, 4, 2, 3, 3, 0, 0, 0, 0, 4, 0, 1, 0, 2, 2, 3, 1, 0, 3, 1, 0, 2, 0, 3, 3, 4, 4, 2, 1, 1, 0, 3, 2, 4, 1, 0, 3, 4, 2, 3, 4, 4, 0, 2, 4, 1, 4, 3, 0, 2, 4, 3, 3, 1, 2, 0, 0, 2, 3, 0, 4, 0, 2, 4, 4, 2, 3, 2, 4, 2, 0, 3, 2, 3, 1, 1, 3, 3, 3, 0, 2, 1, 1, 4, 4, 1, 4, 3, 2, 2, 0, 4, 2, 1, 2, 1, 0, 2, 2, 1, 3, 2, 2, 0, 2, 1, 4, 1, 3, 0, 3, 4, 1, 3, 4, 3, 4, 4, 1, 2, 2, 2, 0, 0, 2, 4, 3, 0, 2, 3, 1, 3, 4, 1, 2, 0, 1, 2, 4, 1, 3, 3, 3, 4, 3, 4, 3, 2, 3, 2, 4, 4, 1, 4, 0, 2, 0, 2, 1, 4, 0, 3, 3, 4, 3, 4, 2, 2, 4, 1, 0, 2, 4, 4, 3, 2, 4, 4, 1, 0, 0, 1, 0, 2, 2, 1, 4, 1, 0, 2, 0, 4, 3, 2, 1, 2, 3, 0, 0, 2, 4, 2, 1, 2, 1, 2, 2, 3, 3, 1, 0, 0, 1, 0, 1, 1, 2, 2, 4, 2, 0, 2, 0, 2, 2, 1, 1, 0, 2, 1, 0, 0, 4, 2, 1, 3, 3, 0, 4, 2, 2, 0, 1, 0, 3, 3, 4, 4, 1, 3, 2, 3, 3, 1, 2, 4, 0, 1, 2, 3, 0, 4, 4, 2, 2, 1, 1, 1, 1, 1, 3, 1, 4, 4, 0, 0, 3, 4, 3, 1, 4, 2, 2, 1, 0, 1, 0, 2, 1, 1, 4, 2, 2, 4, 4, 3, 3, 4, 1, 4, 4, 1, 0, 4, 4, 4, 4, 4, 3, 3, 0, 4, 2, 4, 2, 0, 2, 2, 2, 3, 0, 3, 0, 2, 0, 2, 2, 3, 3, 1, 3, 3, 4, 1, 2, 0, 0, 4, 1, 2, 1, 3, 2, 4, 3, 2, 2, 1, 4, 0, 0, 1, 1, 2, 4, 3, 2, 2, 4, 3, 0, 2, 3, 1, 4, 2, 4, 0, 3, 2, 4, 1, 3, 4, 3, 4, 2, 4, 1, 1, 4, 1, 0, 2, 1, 3, 1, 2, 2, 3, 0, 4, 0, 4, 4, 2, 2, 2, 1, 0, 3, 1, 2, 1, 2, 1, 0, 1, 1, 1, 1, 2, 2, 2, 1, 1, 3, 1, 1, 1, 2, 2, 2, 0, 1, 2, 2, 2, 1, 3, 0, 0, 0, 4, 1, 1, 0, 1, 0, 2, 2, 4, 4, 4, 2, 2, 4, 4, 0, 1, 2, 2, 2, 2, 1, 2, 1, 1, 1, 1, 2, 4, 2, 0, 0, 2, 0, 1, 3, 1, 2, 1, 0, 0, 4, 3, 1, 3, 1, 0, 4, 3, 4, 3, 3, 0, 1, 0, 0, 1, 4, 2, 3, 1, 4, 3, 1, 0, 2, 0, 4, 2, 4, 1, 4, 4, 1, 1, 1, 0, 4, 1, 4, 1, 3, 4, 2, 4, 4, 2, 3, 0, 0, 1, 0, 2, 1, 1, 4, 2, 0, 0, 0, 2, 3, 2, 4, 1, 4, 4, 3, 0, 1, 0, 2, 3, 3, 2, 1, 3, 0, 0, 2, 3, 1, 4, 4, 4, 0, 0, 1, 4, 1, 4, 4, 3, 2, 0, 1, 0, 3, 0, 0, 2, 4, 2, 2, 4, 3, 3, 1, 4, 4, 2, 1, 1, 0, 1, 0, 0, 2, 1, 4, 2, 1, 1, 2, 0, 2, 0, 3, 2, 2, 3, 1, 0, 2, 2, 4, 0, 1, 4, 2, 2, 4, 3, 0, 0, 0, 1, 2, 3, 3, 0, 1, 4, 0, 2, 2, 0, 0, 4, 1, 2, 3, 3, 2, 3, 0, 0, 1, 1, 1, 2, 2, 0, 2, 1, 0, 1, 1, 2, 1, 4, 1, 1, 0, 1, 0, 4, 0, 3, 4, 0, 3, 2, 4, 3, 1, 0, 1, 0, 3, 0, 2, 1, 1, 4, 3, 4, 2]\n",
      "tf.Tensor(\n",
      "[[1. 0. 0. 0. 0.]\n",
      " [0. 1. 0. 0. 0.]\n",
      " [0. 0. 1. 0. 0.]\n",
      " ...\n",
      " [0. 0. 0. 1. 0.]\n",
      " [0. 0. 0. 0. 1.]\n",
      " [0. 0. 1. 0. 0.]], shape=(2225, 5), dtype=float32)\n",
      "{'tech': 0, 'business': 1, 'sport': 2, 'entertainment': 3, 'politics': 4}\n"
     ]
    }
   ],
   "source": [
    "data = {'tech':0, 'business':1, 'sport':2, 'entertainment':3, 'politics':4 }\n",
    "\n",
    "xx = [data[item] for item in labelsList]\n",
    "\n",
    "print(xx)\n",
    "labelsTensor1 = tf.Variable(xx, tf.int32)\n",
    "ys1 = tf.one_hot(labelsTensor1, 5)\n",
    "print(ys1)\n",
    "\n",
    "print(data)"
   ]
  },
  {
   "cell_type": "code",
   "execution_count": 0,
   "metadata": {
    "colab": {
     "base_uri": "https://localhost:8080/",
     "height": 221
    },
    "colab_type": "code",
    "id": "6uPk2ZmlkkML",
    "outputId": "79cbac9e-f3d5-4b9f-96b2-3d91230e7ffc"
   },
   "outputs": [
    {
     "name": "stdout",
     "output_type": "stream",
     "text": [
      "tf.Tensor(\n",
      "[[1. 0. 0. 0. 0.]\n",
      " [0. 1. 0. 0. 0.]\n",
      " [0. 0. 1. 0. 0.]\n",
      " [0. 0. 1. 0. 0.]\n",
      " [0. 0. 0. 0. 1.]\n",
      " [0. 0. 0. 0. 0.]\n",
      " [0. 0. 0. 0. 0.]\n",
      " [0. 0. 1. 0. 0.]\n",
      " [0. 0. 1. 0. 0.]\n",
      " [0. 0. 0. 0. 1.]], shape=(10, 5), dtype=float32)\n",
      "[0, 1, 2, 2, 4, 5, 5, 2, 2, 4]\n"
     ]
    }
   ],
   "source": [
    "labels = []\n",
    "#labelListt = ['sport', 'bussiness', 'politics', 'tech', 'entertainment']\n",
    "#I might need a sorted list or set\n",
    "for item in labelsList:\n",
    "  labels.append(labelsList.index(item))\n",
    "#I need the index of each element in the list, the labels\n",
    "#The plan is to hot encode each category\n",
    "#For each item in labelList find its index in the sorted set of LabelList\n",
    "#This would give the probability value of each label\n",
    "\n",
    "set1 = set(labelsList)\n",
    "\n",
    "labelsTensor = tf.Variable(labels, tf.int32)\n",
    "ys = tf.one_hot(labelsTensor, 5)\n",
    "print(ys[0:10])\n",
    "print(labels[0:10])\n",
    "#print(set1)"
   ]
  },
  {
   "cell_type": "code",
   "execution_count": 10,
   "metadata": {
    "colab": {
     "base_uri": "https://localhost:8080/",
     "height": 102
    },
    "colab_type": "code",
    "id": "ljdgJ251aUpU",
    "outputId": "b0dcd674-093d-434f-9f86-1330e1160f6d"
   },
   "outputs": [
    {
     "name": "stdout",
     "output_type": "stream",
     "text": [
      "1780\n",
      "1780\n",
      "1780\n",
      "445\n",
      "445\n"
     ]
    }
   ],
   "source": [
    "train_size = int(len(articles) * training_portion)\n",
    "\n",
    "train_articles = articles[0: train_size]\n",
    "train_labels = ys1[0: train_size]\n",
    "\n",
    "validation_articles = articles[train_size:]\n",
    "validation_labels = ys1[train_size:]\n",
    "\n",
    "print(train_size)\n",
    "print(len(train_articles))\n",
    "print(len(train_labels))\n",
    "print(len(validation_articles))\n",
    "print(len(validation_labels))"
   ]
  },
  {
   "cell_type": "code",
   "execution_count": 11,
   "metadata": {
    "colab": {
     "base_uri": "https://localhost:8080/",
     "height": 34
    },
    "colab_type": "code",
    "id": "nFwWTIB5voSf",
    "outputId": "a4992703-2d3d-499f-b9ad-41860b0b2a77"
   },
   "outputs": [
    {
     "name": "stdout",
     "output_type": "stream",
     "text": [
      "(445, 5)\n"
     ]
    }
   ],
   "source": [
    "print(validation_labels.shape)"
   ]
  },
  {
   "cell_type": "code",
   "execution_count": 0,
   "metadata": {
    "colab": {},
    "colab_type": "code",
    "id": "yH1JQ6z3aYUN"
   },
   "outputs": [],
   "source": [
    "tokenizer = Tokenizer(num_words = vocab_size, oov_token=oov_tok)\n",
    "tokenizer.fit_on_texts(train_articles)\n",
    "word_index = tokenizer.word_index"
   ]
  },
  {
   "cell_type": "code",
   "execution_count": 0,
   "metadata": {
    "colab": {},
    "colab_type": "code",
    "id": "xzvdbjFGaffL"
   },
   "outputs": [],
   "source": [
    "train_sequences = tokenizer.texts_to_sequences(train_articles)\n",
    "train_padded = pad_sequences(train_sequences, maxlen=max_length, padding=padding_type, truncating=trunc_type)\n",
    "\n"
   ]
  },
  {
   "cell_type": "code",
   "execution_count": 14,
   "metadata": {
    "colab": {
     "base_uri": "https://localhost:8080/",
     "height": 51
    },
    "colab_type": "code",
    "id": "6Ht0CCtfavuS",
    "outputId": "eaead90a-0625-453b-c973-f480b917d8ee"
   },
   "outputs": [
    {
     "name": "stdout",
     "output_type": "stream",
     "text": [
      "445\n",
      "(445, 200)\n"
     ]
    }
   ],
   "source": [
    "validation_sequences = tokenizer.texts_to_sequences(validation_articles)\n",
    "validation_padded = pad_sequences(validation_sequences, maxlen=max_length, padding=padding_type, truncating=trunc_type)\n",
    "\n",
    "print(len(validation_sequences))\n",
    "print(validation_padded.shape)"
   ]
  },
  {
   "cell_type": "code",
   "execution_count": 0,
   "metadata": {
    "colab": {
     "base_uri": "https://localhost:8080/",
     "height": 34
    },
    "colab_type": "code",
    "id": "vpkx71Rwazz-",
    "outputId": "545c603a-f7b8-4e53-c03c-72e3886da3fb"
   },
   "outputs": [
    {
     "name": "stdout",
     "output_type": "stream",
     "text": [
      "{0, 1, 2, 4, 5}\n"
     ]
    }
   ],
   "source": [
    "print(set(labels))"
   ]
  },
  {
   "cell_type": "code",
   "execution_count": 0,
   "metadata": {
    "colab": {
     "base_uri": "https://localhost:8080/",
     "height": 231
    },
    "colab_type": "code",
    "id": "b5_WCAiIbAnr",
    "outputId": "0e882523-cb93-4d79-c3bb-faf7dc1f293a"
   },
   "outputs": [
    {
     "ename": "NameError",
     "evalue": "ignored",
     "output_type": "error",
     "traceback": [
      "\u001b[0;31m---------------------------------------------------------------------------\u001b[0m",
      "\u001b[0;31mNameError\u001b[0m                                 Traceback (most recent call last)",
      "\u001b[0;32m<ipython-input-21-a3a90fb3a49e>\u001b[0m in \u001b[0;36m<module>\u001b[0;34m()\u001b[0m\n\u001b[1;32m      1\u001b[0m \u001b[0;34m\u001b[0m\u001b[0m\n\u001b[1;32m      2\u001b[0m \u001b[0mlabel_tokenizer\u001b[0m \u001b[0;34m=\u001b[0m \u001b[0mTokenizer\u001b[0m\u001b[0;34m(\u001b[0m\u001b[0;34m)\u001b[0m\u001b[0;34m\u001b[0m\u001b[0;34m\u001b[0m\u001b[0m\n\u001b[0;32m----> 3\u001b[0;31m \u001b[0mlabel_tokenizer\u001b[0m\u001b[0;34m.\u001b[0m\u001b[0mfit_on_texts\u001b[0m\u001b[0;34m(\u001b[0m\u001b[0mlabels\u001b[0m\u001b[0;34m)\u001b[0m\u001b[0;34m\u001b[0m\u001b[0;34m\u001b[0m\u001b[0m\n\u001b[0m\u001b[1;32m      4\u001b[0m \u001b[0;34m\u001b[0m\u001b[0m\n\u001b[1;32m      5\u001b[0m \u001b[0mtraining_label_seq\u001b[0m \u001b[0;34m=\u001b[0m \u001b[0mnp\u001b[0m\u001b[0;34m.\u001b[0m\u001b[0marray\u001b[0m\u001b[0;34m(\u001b[0m\u001b[0mlabel_tokenizer\u001b[0m\u001b[0;34m.\u001b[0m\u001b[0mtexts_to_sequences\u001b[0m\u001b[0;34m(\u001b[0m\u001b[0mtrain_labels\u001b[0m\u001b[0;34m)\u001b[0m\u001b[0;34m)\u001b[0m\u001b[0;34m\u001b[0m\u001b[0;34m\u001b[0m\u001b[0m\n",
      "\u001b[0;31mNameError\u001b[0m: name 'labels' is not defined"
     ]
    }
   ],
   "source": [
    "#This cell doesn't need to be run IMO\n",
    "\n",
    "label_tokenizer = Tokenizer()\n",
    "label_tokenizer.fit_on_texts(labels)\n",
    "\n",
    "training_label_seq = np.array(label_tokenizer.texts_to_sequences(train_labels))\n",
    "validation_label_seq = np.array(label_tokenizer.texts_to_sequences(validation_labels))"
   ]
  },
  {
   "cell_type": "code",
   "execution_count": 15,
   "metadata": {
    "colab": {
     "base_uri": "https://localhost:8080/",
     "height": 88
    },
    "colab_type": "code",
    "id": "EacX7kTxbGa_",
    "outputId": "64f17140-1d9c-4188-9be8-d0827f571a92"
   },
   "outputs": [
    {
     "name": "stdout",
     "output_type": "stream",
     "text": [
      "berlin <OOV> anti nazi film german movie anti nazi <OOV> <OOV> drawn <OOV> <OOV> berlin film festival <OOV> <OOV> final days <OOV> final days member white rose movement <OOV> 21 arrested <OOV> brother hans <OOV> <OOV> <OOV> <OOV> <OOV> tyranny <OOV> <OOV> director marc <OOV> said feeling responsibility keep legacy <OOV> going must <OOV> keep ideas alive added film drew <OOV> <OOV> <OOV> <OOV> trial <OOV> <OOV> <OOV> east germany secret police discovery <OOV> behind film <OOV> worked closely <OOV> relatives including one <OOV> sisters ensure historical <OOV> film <OOV> members white rose <OOV> group first started <OOV> anti nazi <OOV> summer <OOV> arrested dropped <OOV> munich university calling day <OOV> <OOV> <OOV> regime film <OOV> six days <OOV> arrest intense trial saw <OOV> initially deny charges ended <OOV> appearance one three german films <OOV> top prize festival south african film version <OOV> <OOV> opera <OOV> shot <OOV> town <OOV> language also <OOV> berlin festival film entitled u <OOV> <OOV> <OOV> <OOV> <OOV> story set performed 40 strong music theatre <OOV> debut film performance film first south african feature 25 years second nominated golden bear award ? ? ? ? ? ? ? ? ? ? ? ? ? ?\n",
      "---\n",
      "berlin cheers anti-nazi film german movie anti-nazi resistance heroine drawn loud applause berlin film festival.  sophie scholl - final days portrays final days member white rose movement. scholl  21  arrested beheaded brother  hans  1943 distributing leaflets condemning  abhorrent tyranny  adolf hitler. director marc rothemund said:  feeling responsibility keep legacy scholls going.   must somehow keep ideas alive   added.  film drew transcripts gestapo interrogations scholl trial preserved archive communist east germany secret police. discovery inspiration behind film rothemund  worked closely surviving relatives  including one scholl sisters  ensure historical accuracy film. scholl members white rose resistance group first started distributing anti-nazi leaflets summer 1942. arrested dropped leaflets munich university calling  day reckoning  adolf hitler regime. film focuses six days scholl arrest intense trial saw scholl initially deny charges ended defiant appearance. one three german films vying top prize festival.  south african film version bizet tragic opera carmen shot cape town xhosa language also premiered berlin festival. film entitled u-carmen ekhayelitsha carmen khayelitsha township story set. performed 40-strong music theatre troupe debut film performance. film first south african feature 25 years second nominated golden bear award.\n"
     ]
    }
   ],
   "source": [
    "reverse_word_index = dict([(value, key) for (key, value) in word_index.items()])\n",
    "\n",
    "def decode_article(text):\n",
    "    return ' '.join([reverse_word_index.get(i, '?') for i in text])\n",
    "print(decode_article(train_padded[10]))\n",
    "print('---')\n",
    "print(train_articles[10])"
   ]
  },
  {
   "cell_type": "code",
   "execution_count": 16,
   "metadata": {
    "colab": {
     "base_uri": "https://localhost:8080/",
     "height": 289
    },
    "colab_type": "code",
    "id": "bGFZNssgbSsu",
    "outputId": "11d340d0-363c-436a-9079-ad32530da53f"
   },
   "outputs": [
    {
     "name": "stdout",
     "output_type": "stream",
     "text": [
      "Model: \"sequential\"\n",
      "_________________________________________________________________\n",
      "Layer (type)                 Output Shape              Param #   \n",
      "=================================================================\n",
      "embedding (Embedding)        (None, None, 64)          320000    \n",
      "_________________________________________________________________\n",
      "bidirectional (Bidirectional (None, 128)               66048     \n",
      "_________________________________________________________________\n",
      "dense (Dense)                (None, 64)                8256      \n",
      "_________________________________________________________________\n",
      "dense_1 (Dense)              (None, 5)                 325       \n",
      "=================================================================\n",
      "Total params: 394,629\n",
      "Trainable params: 394,629\n",
      "Non-trainable params: 0\n",
      "_________________________________________________________________\n"
     ]
    }
   ],
   "source": [
    "model = tf.keras.Sequential([\n",
    "    # Add an Embedding layer expecting input vocab of size 5000, and output embedding dimension of size 64 we set at the top\n",
    "    tf.keras.layers.Embedding(vocab_size, embedding_dim),\n",
    "    tf.keras.layers.Bidirectional(tf.keras.layers.LSTM(embedding_dim)),\n",
    "#    tf.keras.layers.Bidirectional(tf.keras.layers.LSTM(32)),\n",
    "    # use ReLU in place of tanh function since they are very good alternatives of each other.\n",
    "    tf.keras.layers.Dense(embedding_dim, activation='relu'),\n",
    "    # Add a Dense layer with 5 units and softmax activation.\n",
    "    # When we have multiple outputs, softmax convert outputs layers into a probability distribution.\n",
    "    tf.keras.layers.Dense(5, activation='softmax')\n",
    "])\n",
    "model.summary()"
   ]
  },
  {
   "cell_type": "code",
   "execution_count": 0,
   "metadata": {
    "colab": {},
    "colab_type": "code",
    "id": "VMCXsDKLbfO7"
   },
   "outputs": [],
   "source": [
    "model.compile(loss='categorical_crossentropy', optimizer='adam', metrics=['accuracy'])"
   ]
  },
  {
   "cell_type": "code",
   "execution_count": 18,
   "metadata": {
    "colab": {
     "base_uri": "https://localhost:8080/",
     "height": 374
    },
    "colab_type": "code",
    "id": "jIG_lMiybg_3",
    "outputId": "2fe7fb7f-5377-4f99-e84e-b79798c695f9"
   },
   "outputs": [
    {
     "name": "stdout",
     "output_type": "stream",
     "text": [
      "Train on 1780 samples, validate on 445 samples\n",
      "Epoch 1/10\n",
      "1780/1780 - 15s - loss: 1.4372 - accuracy: 0.3770 - val_loss: 1.1164 - val_accuracy: 0.4539\n",
      "Epoch 2/10\n",
      "1780/1780 - 12s - loss: 0.8649 - accuracy: 0.6865 - val_loss: 0.5858 - val_accuracy: 0.7955\n",
      "Epoch 3/10\n",
      "1780/1780 - 12s - loss: 0.3626 - accuracy: 0.8781 - val_loss: 0.3316 - val_accuracy: 0.8854\n",
      "Epoch 4/10\n",
      "1780/1780 - 12s - loss: 0.1074 - accuracy: 0.9713 - val_loss: 0.2642 - val_accuracy: 0.9303\n",
      "Epoch 5/10\n",
      "1780/1780 - 12s - loss: 0.0525 - accuracy: 0.9893 - val_loss: 0.2206 - val_accuracy: 0.9551\n",
      "Epoch 6/10\n",
      "1780/1780 - 12s - loss: 0.0309 - accuracy: 0.9944 - val_loss: 0.2988 - val_accuracy: 0.9011\n",
      "Epoch 7/10\n",
      "1780/1780 - 12s - loss: 0.0561 - accuracy: 0.9876 - val_loss: 0.2033 - val_accuracy: 0.9438\n",
      "Epoch 8/10\n",
      "1780/1780 - 12s - loss: 0.0267 - accuracy: 0.9933 - val_loss: 0.3610 - val_accuracy: 0.8989\n",
      "Epoch 9/10\n",
      "1780/1780 - 12s - loss: 0.0129 - accuracy: 0.9989 - val_loss: 0.2189 - val_accuracy: 0.9438\n",
      "Epoch 10/10\n",
      "1780/1780 - 12s - loss: 0.0022 - accuracy: 1.0000 - val_loss: 0.2163 - val_accuracy: 0.9461\n"
     ]
    }
   ],
   "source": [
    "num_epochs = 10\n",
    "history = model.fit(train_padded, train_labels, epochs=num_epochs, validation_data=(validation_padded, validation_labels), verbose=2)"
   ]
  },
  {
   "cell_type": "code",
   "execution_count": 19,
   "metadata": {
    "colab": {
     "base_uri": "https://localhost:8080/",
     "height": 541
    },
    "colab_type": "code",
    "id": "51YaaI3v80np",
    "outputId": "80ffac45-ab96-4658-ede4-1bbe6be5fbed"
   },
   "outputs": [
    {
     "data": {
      "image/png": "[encoded data removed]",
      "text/plain": [
       "<Figure size 432x288 with 1 Axes>"
      ]
     },
     "metadata": {
      "tags": []
     },
     "output_type": "display_data"
    },
    {
     "data": {
      "image/png": "[encoded data removed]",
      "text/plain": [
       "<Figure size 432x288 with 1 Axes>"
      ]
     },
     "metadata": {
      "tags": []
     },
     "output_type": "display_data"
    }
   ],
   "source": [
    "import matplotlib.pyplot as plt\n",
    "\n",
    "def plot_graphs(history, string):\n",
    "  plt.plot(history.history[string])\n",
    "  plt.plot(history.history['val_'+string])\n",
    "  plt.xlabel(\"Epochs\")\n",
    "  plt.ylabel(string)\n",
    "  plt.legend([string, 'val_'+string])\n",
    "  plt.show()\n",
    "  \n",
    "plot_graphs(history, \"accuracy\")\n",
    "plot_graphs(history, \"loss\")"
   ]
  },
  {
   "cell_type": "code",
   "execution_count": 0,
   "metadata": {
    "colab": {},
    "colab_type": "code",
    "id": "y2fUqfy6ypLS"
   },
   "outputs": [],
   "source": [
    "model2 = tf.keras.Sequential([\n",
    "    tf.keras.layers.Embedding(vocab_size, embedding_dim, input_length=max_length),\n",
    "    tf.keras.layers.GlobalAveragePooling1D(),\n",
    "    tf.keras.layers.Dense(24, activation='relu'),\n",
    "    tf.keras.layers.Dense(5, activation='sigmoid')\n",
    "])\n",
    "\n",
    "\n",
    "model2.compile(loss='binary_crossentropy',optimizer='adam',metrics=['accuracy'])\n",
    "\n"
   ]
  },
  {
   "cell_type": "code",
   "execution_count": 21,
   "metadata": {
    "colab": {
     "base_uri": "https://localhost:8080/",
     "height": 374
    },
    "colab_type": "code",
    "id": "yg1-vYqRy146",
    "outputId": "ec9bb709-db9d-4d46-a072-d08d8dfbe9c3"
   },
   "outputs": [
    {
     "name": "stdout",
     "output_type": "stream",
     "text": [
      "Train on 1780 samples, validate on 445 samples\n",
      "Epoch 1/10\n",
      "1780/1780 - 1s - loss: 0.6380 - accuracy: 0.7713 - val_loss: 0.5540 - val_accuracy: 0.8000\n",
      "Epoch 2/10\n",
      "1780/1780 - 0s - loss: 0.4987 - accuracy: 0.8000 - val_loss: 0.4687 - val_accuracy: 0.8000\n",
      "Epoch 3/10\n",
      "1780/1780 - 0s - loss: 0.4465 - accuracy: 0.8000 - val_loss: 0.4238 - val_accuracy: 0.8000\n",
      "Epoch 4/10\n",
      "1780/1780 - 0s - loss: 0.3869 - accuracy: 0.8174 - val_loss: 0.3588 - val_accuracy: 0.8328\n",
      "Epoch 5/10\n",
      "1780/1780 - 0s - loss: 0.3133 - accuracy: 0.8667 - val_loss: 0.2874 - val_accuracy: 0.8809\n",
      "Epoch 6/10\n",
      "1780/1780 - 0s - loss: 0.2363 - accuracy: 0.9129 - val_loss: 0.2165 - val_accuracy: 0.9245\n",
      "Epoch 7/10\n",
      "1780/1780 - 0s - loss: 0.1657 - accuracy: 0.9563 - val_loss: 0.1596 - val_accuracy: 0.9492\n",
      "Epoch 8/10\n",
      "1780/1780 - 0s - loss: 0.1127 - accuracy: 0.9782 - val_loss: 0.1206 - val_accuracy: 0.9627\n",
      "Epoch 9/10\n",
      "1780/1780 - 0s - loss: 0.0783 - accuracy: 0.9867 - val_loss: 0.0963 - val_accuracy: 0.9699\n",
      "Epoch 10/10\n",
      "1780/1780 - 0s - loss: 0.0564 - accuracy: 0.9918 - val_loss: 0.0809 - val_accuracy: 0.9748\n"
     ]
    }
   ],
   "source": [
    "num_epochs = 10\n",
    "history = model2.fit(train_padded, train_labels, epochs=num_epochs, validation_data=(validation_padded, validation_labels), verbose=2)"
   ]
  },
  {
   "cell_type": "code",
   "execution_count": 0,
   "metadata": {
    "colab": {
     "base_uri": "https://localhost:8080/",
     "height": 541
    },
    "colab_type": "code",
    "id": "dxeolSCRzkPM",
    "outputId": "174a2b55-890c-416f-f1e0-0188105de4ff"
   },
   "outputs": [
    {
     "data": {
      "image/png": "[encoded data removed]",
      "text/plain": [
       "<Figure size 432x288 with 1 Axes>"
      ]
     },
     "metadata": {
      "tags": []
     },
     "output_type": "display_data"
    },
    {
     "data": {
      "image/png": "[encoded data removed]",
      "text/plain": [
       "<Figure size 432x288 with 1 Axes>"
      ]
     },
     "metadata": {
      "tags": []
     },
     "output_type": "display_data"
    }
   ],
   "source": [
    "plot_graphs(history, \"accuracy\")\n",
    "plot_graphs(history, \"loss\")"
   ]
  },
  {
   "cell_type": "code",
   "execution_count": 0,
   "metadata": {
    "colab": {
     "base_uri": "https://localhost:8080/",
     "height": 170
    },
    "colab_type": "code",
    "id": "be93w-wR8_Kb",
    "outputId": "b2291a46-7468-4397-c5c3-b7cf5a913832"
   },
   "outputs": [
    {
     "name": "stdout",
     "output_type": "stream",
     "text": [
      "[[4]\n",
      " [3]\n",
      " [1]\n",
      " [1]\n",
      " [4]\n",
      " [2]\n",
      " [4]\n",
      " [5]\n",
      " [5]]\n"
     ]
    }
   ],
   "source": [
    "print(validation_label_seq[1:10])"
   ]
  },
  {
   "cell_type": "code",
   "execution_count": 0,
   "metadata": {
    "colab": {
     "base_uri": "https://localhost:8080/",
     "height": 34
    },
    "colab_type": "code",
    "id": "r2FlrIKz9vGX",
    "outputId": "76c9f278-3f78-4d0f-b793-8f5109e32034"
   },
   "outputs": [
    {
     "name": "stdout",
     "output_type": "stream",
     "text": [
      "['tech', 'politics', 'sport', 'sport', 'tech', 'business', 'tech', 'entertainment', 'entertainment']\n"
     ]
    }
   ],
   "source": [
    "print(validation_labels[1:10])"
   ]
  },
  {
   "cell_type": "code",
   "execution_count": 25,
   "metadata": {
    "colab": {
     "base_uri": "https://localhost:8080/",
     "height": 51
    },
    "colab_type": "code",
    "id": "ASjC61ITcL9a",
    "outputId": "11d3d9b6-8a46-4de6-f7e5-2d4c29180813"
   },
   "outputs": [
    {
     "name": "stdout",
     "output_type": "stream",
     "text": [
      "[[5.6818168e-04 1.8990681e-03 1.2486056e-02 9.8455209e-01 4.9459265e-04]] entertainment\n",
      "[[6.6004944e-04 1.4443357e-01 7.1724033e-01 1.8456568e-01 4.0060494e-02]] sport\n"
     ]
    }
   ],
   "source": [
    "txt = [\"Football.\"]\n",
    "seq = tokenizer.texts_to_sequences(txt)\n",
    "padded = pad_sequences(seq, maxlen=max_length)\n",
    "pred = model.predict(padded)\n",
    "pred2 = model2.predict(padded)\n",
    "#labelss = ['sport', 'bussiness', 'politics', 'tech', 'entertainment']\n",
    "#Do I get the sequence that generates this?\n",
    "new_data ={j:i for i, j in data.items()}\n",
    "print(pred, new_data[int(pred.argmax(1))])\n",
    "print(pred2, new_data[int(pred2.argmax(1))])\n",
    "#print(pred)\n",
    "#print(new_data[int(pred.argmax(1))])\n",
    "#print(type(pred.argmax(1)))\n",
    "#print(labels[np.argmax(pred)])\n",
    "#print(labels[10])\n",
    "#print(labelsList[0])\n",
    "#2 is business\n"
   ]
  },
  {
   "cell_type": "code",
   "execution_count": 0,
   "metadata": {
    "colab": {
     "base_uri": "https://localhost:8080/",
     "height": 34
    },
    "colab_type": "code",
    "id": "AunwWdW3WRpF",
    "outputId": "7a5a4ee4-67c3-456e-c993-2632e11097ed"
   },
   "outputs": [
    {
     "data": {
      "text/plain": [
       "{0: 'tech', 1: 'business', 2: 'sport', 3: 'entertainment', 4: 'politics'}"
      ]
     },
     "execution_count": 50,
     "metadata": {
      "tags": []
     },
     "output_type": "execute_result"
    }
   ],
   "source": [
    "{j:i for i, j in data.items()}\n",
    "  "
   ]
  },
  {
   "cell_type": "code",
   "execution_count": 0,
   "metadata": {
    "colab": {
     "base_uri": "https://localhost:8080/",
     "height": 119
    },
    "colab_type": "code",
    "id": "eSYEcmWQKFeQ",
    "outputId": "e7d60aec-34aa-4f88-92a9-ed92ee20ba3a"
   },
   "outputs": [
    {
     "name": "stdout",
     "output_type": "stream",
     "text": [
      "tf.Tensor(\n",
      "[[1. 0. 0. 0. 0.]\n",
      " [0. 1. 0. 0. 0.]\n",
      " [0. 0. 1. 0. 0.]\n",
      " [0. 0. 0. 1. 0.]\n",
      " [0. 0. 0. 0. 1.]], shape=(5, 5), dtype=float32)\n"
     ]
    }
   ],
   "source": [
    "indices = [0, 1, 2, 3]\n",
    "depth = 4\n",
    "indices_of_news_tone = [0,1,2,3,4]\n",
    "tf.one_hot(indices, depth)\n",
    "labels = []\n",
    "labelList = ['sport', 'bussiness', 'politics', 'tech', 'entertainment']\n",
    "for item in labelList:\n",
    "  labels.append(labelList.index(item))\n",
    "#The plan is to hot encode each category\n",
    "#This would give the probability value of each label\n",
    "\n",
    "labelsTensor = tf.Variable(labels, tf.int32)\n",
    "ys = tf.one_hot(labelsTensor, 5)\n",
    "print(ys)"
   ]
  }
 ],
 "metadata": {
  "colab": {
   "name": "BBC_News.ipynb",
   "provenance": []
  },
  "kernelspec": {
   "display_name": "Python 3",
   "language": "python",
   "name": "python3"
  },
  "language_info": {
   "codemirror_mode": {
    "name": "ipython",
    "version": 3
   },
   "file_extension": ".py",
   "mimetype": "text/x-python",
   "name": "python",
   "nbconvert_exporter": "python",
   "pygments_lexer": "ipython3",
   "version": "3.7.4"
  }
 },
 "nbformat": 4,
 "nbformat_minor": 1
}
