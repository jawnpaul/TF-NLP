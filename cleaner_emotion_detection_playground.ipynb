{
  "nbformat": 4,
  "nbformat_minor": 0,
  "metadata": {
    "colab": {
      "name": "cleaner_emotion_detection_playground.ipynb",
      "provenance": []
    },
    "kernelspec": {
      "name": "python3",
      "display_name": "Python 3"
    },
    "accelerator": "GPU"
  },
  "cells": [
    {
      "cell_type": "code",
      "metadata": {
        "id": "avFH7OS5Cm-5",
        "outputId": "faa3574b-ce2a-4d36-8cbb-67a7b32d4b8d",
        "colab": {
          "base_uri": "https://localhost:8080/",
          "height": 34
        }
      },
      "source": [
        "# Run this to ensure TensorFlow 2.x is used\n",
        "try:\n",
        "  # %tensorflow_version only exists in Colab.\n",
        "  %tensorflow_version 2.x\n",
        "except Exception:\n",
        "    pass\n",
        " \n",
        "import tensorflow as tf\n",
        "print(tf.__version__)"
      ],
      "execution_count": null,
      "outputs": [
        {
          "output_type": "stream",
          "text": [
            "2.2.0\n"
          ],
          "name": "stdout"
        }
      ]
    },
    {
      "cell_type": "code",
      "metadata": {
        "id": "TI0s8wAhC55L",
        "outputId": "ba2a1f37-afb2-4ff6-a0c4-dd01de3e8a08",
        "colab": {
          "base_uri": "https://localhost:8080/",
          "height": 496
        }
      },
      "source": [
        "!pip install bert-for-tf2\n",
        "!pip install sentencepiece"
      ],
      "execution_count": null,
      "outputs": [
        {
          "output_type": "stream",
          "text": [
            "Collecting bert-for-tf2\n",
            "\u001b[?25l  Downloading https://files.pythonhosted.org/packages/35/5c/6439134ecd17b33fe0396fb0b7d6ce3c5a120c42a4516ba0e9a2d6e43b25/bert-for-tf2-0.14.4.tar.gz (40kB)\n",
            "\r\u001b[K     |████████                        | 10kB 16.3MB/s eta 0:00:01\r\u001b[K     |████████████████▏               | 20kB 2.2MB/s eta 0:00:01\r\u001b[K     |████████████████████████▎       | 30kB 2.8MB/s eta 0:00:01\r\u001b[K     |████████████████████████████████| 40kB 2.1MB/s \n",
            "\u001b[?25hCollecting py-params>=0.9.6\n",
            "  Downloading https://files.pythonhosted.org/packages/a4/bf/c1c70d5315a8677310ea10a41cfc41c5970d9b37c31f9c90d4ab98021fd1/py-params-0.9.7.tar.gz\n",
            "Collecting params-flow>=0.8.0\n",
            "  Downloading https://files.pythonhosted.org/packages/a9/95/ff49f5ebd501f142a6f0aaf42bcfd1c192dc54909d1d9eb84ab031d46056/params-flow-0.8.2.tar.gz\n",
            "Requirement already satisfied: numpy in /usr/local/lib/python3.6/dist-packages (from params-flow>=0.8.0->bert-for-tf2) (1.18.5)\n",
            "Requirement already satisfied: tqdm in /usr/local/lib/python3.6/dist-packages (from params-flow>=0.8.0->bert-for-tf2) (4.41.1)\n",
            "Building wheels for collected packages: bert-for-tf2, py-params, params-flow\n",
            "  Building wheel for bert-for-tf2 (setup.py) ... \u001b[?25l\u001b[?25hdone\n",
            "  Created wheel for bert-for-tf2: filename=bert_for_tf2-0.14.4-cp36-none-any.whl size=30114 sha256=7abd4c97db32ef2e670b696283bf9333740d972d3ac43fd66c0250b2ae13edef\n",
            "  Stored in directory: /root/.cache/pip/wheels/cf/3f/4d/79d7735015a5f523648df90d871ce8e89a7df8185f7703eeab\n",
            "  Building wheel for py-params (setup.py) ... \u001b[?25l\u001b[?25hdone\n",
            "  Created wheel for py-params: filename=py_params-0.9.7-cp36-none-any.whl size=7302 sha256=3f6dd32f037a71e70b163ffc3179140b8f6c718b1d43ce352e17b5dd213aec25\n",
            "  Stored in directory: /root/.cache/pip/wheels/67/f5/19/b461849a50aefdf4bab47c4756596e82ee2118b8278e5a1980\n",
            "  Building wheel for params-flow (setup.py) ... \u001b[?25l\u001b[?25hdone\n",
            "  Created wheel for params-flow: filename=params_flow-0.8.2-cp36-none-any.whl size=19473 sha256=3373790ef3fe15c4a929ff0c0c3e893ab4935a9f52d0e0ec414e1a177cf4187a\n",
            "  Stored in directory: /root/.cache/pip/wheels/08/c8/7f/81c86b9ff2b86e2c477e3914175be03e679e596067dc630c06\n",
            "Successfully built bert-for-tf2 py-params params-flow\n",
            "Installing collected packages: py-params, params-flow, bert-for-tf2\n",
            "Successfully installed bert-for-tf2-0.14.4 params-flow-0.8.2 py-params-0.9.7\n",
            "Collecting sentencepiece\n",
            "\u001b[?25l  Downloading https://files.pythonhosted.org/packages/d4/a4/d0a884c4300004a78cca907a6ff9a5e9fe4f090f5d95ab341c53d28cbc58/sentencepiece-0.1.91-cp36-cp36m-manylinux1_x86_64.whl (1.1MB)\n",
            "\u001b[K     |████████████████████████████████| 1.1MB 3.4MB/s \n",
            "\u001b[?25hInstalling collected packages: sentencepiece\n",
            "Successfully installed sentencepiece-0.1.91\n"
          ],
          "name": "stdout"
        }
      ]
    },
    {
      "cell_type": "code",
      "metadata": {
        "id": "MYodm0ovD733",
        "outputId": "3041b1c8-dfb6-4cec-f379-f2982271164a",
        "colab": {
          "base_uri": "https://localhost:8080/",
          "height": 51
        }
      },
      "source": [
        "import bert\n",
        "import tensorflow_hub as hub\n",
        "import pandas as pd\n",
        "\n",
        "from tensorflow.keras.models import Model\n",
        "\n",
        "from bert.tokenization.bert_tokenization import FullTokenizer\n",
        "\n",
        "bert_layer = hub.KerasLayer(\"https://tfhub.dev/tensorflow/bert_en_uncased_L-12_H-768_A-12/1\",trainable=True)\n",
        "\n",
        "import nltk\n",
        "from tensorflow.keras.preprocessing.sequence import pad_sequences\n",
        "nltk.download('stopwords')\n",
        "from nltk.corpus import stopwords\n",
        "STOPWORDS = set(stopwords.words('english'))"
      ],
      "execution_count": null,
      "outputs": [
        {
          "output_type": "stream",
          "text": [
            "[nltk_data] Downloading package stopwords to /root/nltk_data...\n",
            "[nltk_data]   Unzipping corpora/stopwords.zip.\n"
          ],
          "name": "stdout"
        }
      ]
    },
    {
      "cell_type": "code",
      "metadata": {
        "id": "dUAEnH3qFEs4",
        "outputId": "2885308c-8a03-4968-cdee-5f86daac80a7",
        "colab": {
          "base_uri": "https://localhost:8080/",
          "height": 122
        }
      },
      "source": [
        "from google.colab import drive\n",
        "drive.mount('/content/drive')"
      ],
      "execution_count": null,
      "outputs": [
        {
          "output_type": "stream",
          "text": [
            "Go to this URL in a browser: https://accounts.google.com/o/oauth2/auth?client_id=947318989803-6bn6qk8qdgf4n4g3pfee6491hc0brc4i.apps.googleusercontent.com&redirect_uri=urn%3aietf%3awg%3aoauth%3a2.0%3aoob&response_type=code&scope=email%20https%3a%2f%2fwww.googleapis.com%2fauth%2fdocs.test%20https%3a%2f%2fwww.googleapis.com%2fauth%2fdrive%20https%3a%2f%2fwww.googleapis.com%2fauth%2fdrive.photos.readonly%20https%3a%2f%2fwww.googleapis.com%2fauth%2fpeopleapi.readonly\n",
            "\n",
            "Enter your authorization code:\n",
            "··········\n",
            "Mounted at /content/drive\n"
          ],
          "name": "stdout"
        }
      ]
    },
    {
      "cell_type": "code",
      "metadata": {
        "id": "Y1vGuhfYFNX5",
        "outputId": "2d1db696-8814-42a2-b215-e7882bffc9a1",
        "colab": {
          "base_uri": "https://localhost:8080/",
          "height": 71
        }
      },
      "source": [
        "#Reading the first dataset\n",
        "data = pd.read_csv(\"/content/drive/My Drive/isear.csv\", delimiter=\"|\" , error_bad_lines=False)\n",
        "#data = data.dropna()\n",
        "df = data.loc[:,'Field1':'SIT']\n",
        "df = df.drop(['Field3', 'Field2', 'MYKEY'], axis = 1)\n",
        "\n",
        "emotion_list = df['Field1'].tolist()\n",
        "sentence_list = df['SIT'].tolist()\n",
        "\n",
        "len(sentence_list)"
      ],
      "execution_count": null,
      "outputs": [
        {
          "output_type": "stream",
          "text": [
            "b'Skipping line 199: expected 43 fields, saw 44\\nSkipping line 222: expected 43 fields, saw 44\\nSkipping line 248: expected 43 fields, saw 44\\nSkipping line 350: expected 43 fields, saw 44\\nSkipping line 395: expected 43 fields, saw 44\\nSkipping line 423: expected 43 fields, saw 44\\nSkipping line 480: expected 43 fields, saw 44\\nSkipping line 552: expected 43 fields, saw 44\\nSkipping line 601: expected 43 fields, saw 45\\nSkipping line 604: expected 43 fields, saw 45\\nSkipping line 612: expected 43 fields, saw 45\\nSkipping line 722: expected 43 fields, saw 44\\nSkipping line 765: expected 43 fields, saw 44\\nSkipping line 800: expected 43 fields, saw 46\\nSkipping line 818: expected 43 fields, saw 45\\nSkipping line 891: expected 43 fields, saw 44\\nSkipping line 928: expected 43 fields, saw 44\\nSkipping line 963: expected 43 fields, saw 44\\nSkipping line 965: expected 43 fields, saw 45\\nSkipping line 974: expected 43 fields, saw 44\\nSkipping line 985: expected 43 fields, saw 44\\nSkipping line 1064: expected 43 fields, saw 44\\nSkipping line 1068: expected 43 fields, saw 46\\nSkipping line 1090: expected 43 fields, saw 45\\nSkipping line 1091: expected 43 fields, saw 44\\nSkipping line 1174: expected 43 fields, saw 44\\nSkipping line 1175: expected 43 fields, saw 45\\nSkipping line 1179: expected 43 fields, saw 44\\nSkipping line 1193: expected 43 fields, saw 44\\nSkipping line 1233: expected 43 fields, saw 44\\nSkipping line 1239: expected 43 fields, saw 44\\nSkipping line 1301: expected 43 fields, saw 44\\nSkipping line 1312: expected 43 fields, saw 45\\nSkipping line 1320: expected 43 fields, saw 44\\nSkipping line 1349: expected 43 fields, saw 44\\nSkipping line 1381: expected 43 fields, saw 45\\nSkipping line 1439: expected 43 fields, saw 46\\nSkipping line 1460: expected 43 fields, saw 45\\nSkipping line 1465: expected 43 fields, saw 46\\nSkipping line 1466: expected 43 fields, saw 44\\nSkipping line 1476: expected 43 fields, saw 45\\nSkipping line 1489: expected 43 fields, saw 46\\nSkipping line 1506: expected 43 fields, saw 44\\nSkipping line 1523: expected 43 fields, saw 44\\nSkipping line 1539: expected 43 fields, saw 44\\nSkipping line 1550: expected 43 fields, saw 44\\nSkipping line 1576: expected 43 fields, saw 44\\nSkipping line 1703: expected 43 fields, saw 44\\nSkipping line 1712: expected 43 fields, saw 45\\nSkipping line 1781: expected 43 fields, saw 44\\nSkipping line 1946: expected 43 fields, saw 46\\nSkipping line 1950: expected 43 fields, saw 44\\nSkipping line 2038: expected 43 fields, saw 44\\nSkipping line 2047: expected 43 fields, saw 44\\nSkipping line 2048: expected 43 fields, saw 44\\nSkipping line 2060: expected 43 fields, saw 44\\nSkipping line 2083: expected 43 fields, saw 44\\nSkipping line 2230: expected 43 fields, saw 44\\nSkipping line 2241: expected 43 fields, saw 46\\nSkipping line 2245: expected 43 fields, saw 45\\nSkipping line 2250: expected 43 fields, saw 45\\nSkipping line 2255: expected 43 fields, saw 46\\nSkipping line 2272: expected 43 fields, saw 45\\nSkipping line 2356: expected 43 fields, saw 44\\nSkipping line 2358: expected 43 fields, saw 44\\nSkipping line 2412: expected 43 fields, saw 45\\nSkipping line 2432: expected 43 fields, saw 49\\nSkipping line 2538: expected 43 fields, saw 46\\nSkipping line 2548: expected 43 fields, saw 44\\nSkipping line 2558: expected 43 fields, saw 45\\nSkipping line 2569: expected 43 fields, saw 45\\nSkipping line 2619: expected 43 fields, saw 44\\nSkipping line 2659: expected 43 fields, saw 44\\nSkipping line 2688: expected 43 fields, saw 44\\nSkipping line 2722: expected 43 fields, saw 45\\nSkipping line 2746: expected 43 fields, saw 44\\nSkipping line 2780: expected 43 fields, saw 44\\nSkipping line 2788: expected 43 fields, saw 44\\nSkipping line 2804: expected 43 fields, saw 44\\nSkipping line 2815: expected 43 fields, saw 44\\nSkipping line 2817: expected 43 fields, saw 44\\nSkipping line 2848: expected 43 fields, saw 44\\nSkipping line 2903: expected 43 fields, saw 44\\nSkipping line 2983: expected 43 fields, saw 44\\nSkipping line 2999: expected 43 fields, saw 45\\nSkipping line 3013: expected 43 fields, saw 44\\nSkipping line 3060: expected 43 fields, saw 44\\nSkipping line 3069: expected 43 fields, saw 45\\nSkipping line 3180: expected 43 fields, saw 45\\nSkipping line 3190: expected 43 fields, saw 45\\nSkipping line 3193: expected 43 fields, saw 46\\nSkipping line 3194: expected 43 fields, saw 45\\nSkipping line 3195: expected 43 fields, saw 45\\nSkipping line 3199: expected 43 fields, saw 44\\nSkipping line 3210: expected 43 fields, saw 44\\nSkipping line 3269: expected 43 fields, saw 44\\nSkipping line 3279: expected 43 fields, saw 44\\nSkipping line 3319: expected 43 fields, saw 44\\nSkipping line 3327: expected 43 fields, saw 44\\nSkipping line 3380: expected 43 fields, saw 44\\nSkipping line 3448: expected 43 fields, saw 47\\nSkipping line 3471: expected 43 fields, saw 44\\nSkipping line 3490: expected 43 fields, saw 44\\nSkipping line 3493: expected 43 fields, saw 44\\nSkipping line 3511: expected 43 fields, saw 44\\nSkipping line 3627: expected 43 fields, saw 45\\nSkipping line 3635: expected 43 fields, saw 44\\nSkipping line 3670: expected 43 fields, saw 44\\nSkipping line 3684: expected 43 fields, saw 44\\nSkipping line 3699: expected 43 fields, saw 44\\nSkipping line 3707: expected 43 fields, saw 44\\nSkipping line 3748: expected 43 fields, saw 44\\nSkipping line 3772: expected 43 fields, saw 44\\nSkipping line 3787: expected 43 fields, saw 45\\nSkipping line 3872: expected 43 fields, saw 45\\nSkipping line 3878: expected 43 fields, saw 44\\nSkipping line 4011: expected 43 fields, saw 44\\nSkipping line 4029: expected 43 fields, saw 44\\nSkipping line 4147: expected 43 fields, saw 44\\nSkipping line 4312: expected 43 fields, saw 44\\nSkipping line 4407: expected 43 fields, saw 45\\nSkipping line 4604: expected 43 fields, saw 44\\nSkipping line 4627: expected 43 fields, saw 45\\nSkipping line 4693: expected 43 fields, saw 44\\nSkipping line 4694: expected 43 fields, saw 45\\nSkipping line 4695: expected 43 fields, saw 44\\nSkipping line 4697: expected 43 fields, saw 44\\nSkipping line 4742: expected 43 fields, saw 44\\nSkipping line 4744: expected 43 fields, saw 46\\nSkipping line 4756: expected 43 fields, saw 44\\nSkipping line 4763: expected 43 fields, saw 44\\nSkipping line 4868: expected 43 fields, saw 44\\nSkipping line 4909: expected 43 fields, saw 45\\nSkipping line 4963: expected 43 fields, saw 44\\nSkipping line 5026: expected 43 fields, saw 44\\nSkipping line 5124: expected 43 fields, saw 44\\nSkipping line 5168: expected 43 fields, saw 45\\nSkipping line 5202: expected 43 fields, saw 45\\nSkipping line 5255: expected 43 fields, saw 46\\nSkipping line 5290: expected 43 fields, saw 45\\nSkipping line 5295: expected 43 fields, saw 46\\nSkipping line 5500: expected 43 fields, saw 45\\nSkipping line 5511: expected 43 fields, saw 44\\nSkipping line 5558: expected 43 fields, saw 44\\nSkipping line 5560: expected 43 fields, saw 48\\nSkipping line 5709: expected 43 fields, saw 44\\nSkipping line 5835: expected 43 fields, saw 45\\nSkipping line 6070: expected 43 fields, saw 47\\nSkipping line 6101: expected 43 fields, saw 44\\nSkipping line 6105: expected 43 fields, saw 45\\nSkipping line 6107: expected 43 fields, saw 45\\nSkipping line 6336: expected 43 fields, saw 45\\nSkipping line 7115: expected 43 fields, saw 44\\nSkipping line 7125: expected 43 fields, saw 44\\nSkipping line 7339: expected 43 fields, saw 48\\nSkipping line 7483: expected 43 fields, saw 46\\nSkipping line 7487: expected 43 fields, saw 44\\nSkipping line 7498: expected 43 fields, saw 46\\nSkipping line 7584: expected 43 fields, saw 52\\nSkipping line 7598: expected 43 fields, saw 44\\nSkipping line 7617: expected 43 fields, saw 46\\nSkipping line 7654: expected 43 fields, saw 48\\nSkipping line 7656: expected 43 fields, saw 46\\n'\n"
          ],
          "name": "stderr"
        },
        {
          "output_type": "execute_result",
          "data": {
            "text/plain": [
              "7503"
            ]
          },
          "metadata": {
            "tags": []
          },
          "execution_count": 11
        }
      ]
    },
    {
      "cell_type": "code",
      "metadata": {
        "id": "k8JZYLsiFld_",
        "outputId": "14df6b0f-8d2b-4bc6-a34a-a2394adc3ca0",
        "colab": {
          "base_uri": "https://localhost:8080/",
          "height": 68
        }
      },
      "source": [
        "#Reading the second dataset\n",
        "data2 = pd.read_csv(\"/content/drive/My Drive/text_emotion.csv\")\n",
        "data2 = data2.dropna()\n",
        "emotion_list2 = data2['sentiment'].tolist()\n",
        "sentence_list2 = data2['content'].tolist()\n",
        "\n",
        "emotion_list2_unique = data2['sentiment'].unique().tolist()\n",
        "\n",
        "#Joining the two datasets\n",
        "final_emotion_list = emotion_list + emotion_list2\n",
        "final_sentence_list = sentence_list + sentence_list2\n",
        "\n",
        "print(len(emotion_list2))\n",
        "\n",
        "print(len(final_emotion_list))\n",
        "print(len(final_sentence_list))"
      ],
      "execution_count": null,
      "outputs": [
        {
          "output_type": "stream",
          "text": [
            "40000\n",
            "47503\n",
            "47503\n"
          ],
          "name": "stdout"
        }
      ]
    },
    {
      "cell_type": "code",
      "metadata": {
        "id": "EQBF6s5IF7EN"
      },
      "source": [
        "#remove stopwords\n",
        "for word in STOPWORDS:\n",
        "    token = ' ' + word + ' '\n",
        "    res = list(map(lambda token: str.replace(token, ' ', ' '), final_sentence_list))\n",
        "\n",
        "\n",
        "#filter sentence\n",
        "sentenceFiltered = []\n",
        "for w in final_sentence_list:\n",
        "    if w not in STOPWORDS:\n",
        "        sentenceFiltered.append(w)"
      ],
      "execution_count": null,
      "outputs": []
    },
    {
      "cell_type": "code",
      "metadata": {
        "id": "OZW1__ctF_n1"
      },
      "source": [
        "dataLabels = {'joy':0, 'fear':1, 'anger':2, 'sadness':3, 'disgust':4, 'shame':5, 'guilt':6, 'empty':7,\n",
        "       'enthusiasm':8, 'neutral':9, 'worry':10, 'surprise':11, 'love':12, 'fun':13, 'hate':14, 'happiness':15,\n",
        "       'boredom':16, 'relief':17}\n",
        "\n",
        "#Maps the label to a specific integer\n",
        "labelList = [dataLabels[item] for item in final_emotion_list]\n"
      ],
      "execution_count": null,
      "outputs": []
    },
    {
      "cell_type": "code",
      "metadata": {
        "id": "aXL0-RKqIL8C"
      },
      "source": [
        "#Shuffling the dataset\n",
        "#import random\n",
        "#from random import Random\n",
        "#Random(10).shuffle(final_sentence_list)\n",
        "#Random(10).shuffle(labelList)"
      ],
      "execution_count": null,
      "outputs": []
    },
    {
      "cell_type": "code",
      "metadata": {
        "id": "n1sMEV1iGFFd"
      },
      "source": [
        "#Most frequent 5000 words in the dataset\n",
        "vocab_size = 5000\n",
        "embedding_dim = 64\n",
        "max_length = 200\n",
        "trunc_type = 'post'\n",
        "padding_type = 'post'\n",
        "oov_tok = '<OOV>'\n",
        "training_portion = 0.8\n",
        "\n",
        "#labelsTensor = tf.Variable(labelList, tf.int32)\n",
        "#encoded_tensor = tf.one_hot(labelsTensor, 18)\n",
        "\n",
        "ys = tf.keras.utils.to_categorical(labelList, num_classes=18)\n",
        "\n",
        "train_size = int(len(sentenceFiltered) * training_portion)\n",
        "train_articles = sentenceFiltered[0: train_size]\n",
        "train_labels = ys[0: train_size]\n",
        "\n",
        "validation_articles = sentenceFiltered[train_size:]\n",
        "validation_labels = ys[train_size:]"
      ],
      "execution_count": null,
      "outputs": []
    },
    {
      "cell_type": "code",
      "metadata": {
        "id": "Z9qMcyfgZcxX",
        "outputId": "ccdf1697-f488-4781-bc01-e34fb8048ed6",
        "colab": {
          "base_uri": "https://localhost:8080/",
          "height": 51
        }
      },
      "source": [
        "ys[1001]"
      ],
      "execution_count": null,
      "outputs": [
        {
          "output_type": "execute_result",
          "data": {
            "text/plain": [
              "array([0., 0., 1., 0., 0., 0., 0., 0., 0., 0., 0., 0., 0., 0., 0., 0., 0.,\n",
              "       0.], dtype=float32)"
            ]
          },
          "metadata": {
            "tags": []
          },
          "execution_count": 21
        }
      ]
    },
    {
      "cell_type": "code",
      "metadata": {
        "id": "ILN9ADFiGvEx"
      },
      "source": [
        "BertTokenizer = bert.bert_tokenization.FullTokenizer\n",
        "bert_layer = hub.KerasLayer(\"https://tfhub.dev/tensorflow/bert_en_uncased_L-12_H-768_A-12/1\",\n",
        "                            trainable=False)\n",
        "vocabulary_file = bert_layer.resolved_object.vocab_file.asset_path.numpy()\n",
        "to_lower_case = bert_layer.resolved_object.do_lower_case.numpy()\n",
        "tokenizer = BertTokenizer(vocabulary_file, to_lower_case)\n",
        "\n",
        "def tokenize_sentences(sentence):\n",
        "    return tokenizer.convert_tokens_to_ids(tokenizer.tokenize(sentence))"
      ],
      "execution_count": null,
      "outputs": []
    },
    {
      "cell_type": "code",
      "metadata": {
        "id": "4bHJnhALG84f"
      },
      "source": [
        "train_sequences = [tokenize_sentences(sentence) for sentence in train_articles]\n",
        "train_padded = pad_sequences(train_sequences, maxlen=max_length, padding=padding_type, truncating=trunc_type)\n",
        "\n",
        "validation_sequences = [tokenize_sentences(sentence) for sentence in validation_articles]\n",
        "validation_padded = pad_sequences(validation_sequences, maxlen=max_length, padding=padding_type, truncating=trunc_type)"
      ],
      "execution_count": null,
      "outputs": []
    },
    {
      "cell_type": "code",
      "metadata": {
        "id": "0yAryRnmWBs3"
      },
      "source": [
        "import numpy as np\n",
        "train_x = np.asarray(train_padded)\n",
        "train_y = np.asarray(train_labels)\n",
        "validation_x = np.asarray(validation_padded)\n",
        "validation_y = np.asarray(validation_labels)"
      ],
      "execution_count": null,
      "outputs": []
    },
    {
      "cell_type": "code",
      "metadata": {
        "id": "HDHdsTxhJTPp"
      },
      "source": [
        "class TEXT_MODEL(tf.keras.Model):\n",
        "    \n",
        "    def __init__(self,\n",
        "                 vocabulary_size,\n",
        "                 embedding_dimensions=128,\n",
        "                 cnn_filters=50,\n",
        "                 dnn_units=512,\n",
        "                 model_output_classes=18,\n",
        "                 dropout_rate=0.1,\n",
        "                 training=False,\n",
        "                 name=\"text_model\"):\n",
        "        super(TEXT_MODEL, self).__init__(name=name)\n",
        "        \n",
        "        self.embedding = tf.keras.layers.Embedding(vocabulary_size,\n",
        "                                          embedding_dimensions)\n",
        "        self.cnn_layer1 = tf.keras.layers.Conv1D(filters=cnn_filters,\n",
        "                                        kernel_size=2,\n",
        "                                        padding=\"valid\",\n",
        "                                        activation=\"relu\")\n",
        "        self.cnn_layer2 = tf.keras.layers.Conv1D(filters=cnn_filters,\n",
        "                                        kernel_size=3,\n",
        "                                        padding=\"valid\",\n",
        "                                        activation=\"relu\")\n",
        "        self.cnn_layer3 = tf.keras.layers.Conv1D(filters=cnn_filters,\n",
        "                                        kernel_size=4,\n",
        "                                        padding=\"valid\",\n",
        "                                        activation=\"relu\")\n",
        "        self.pool = tf.keras.layers.GlobalMaxPool1D()\n",
        "        \n",
        "        self.dense_1 = tf.keras.layers.Dense(units=dnn_units, activation=\"relu\")\n",
        "        self.dropout = tf.keras.layers.Dropout(rate=dropout_rate)\n",
        "        if model_output_classes == 2:\n",
        "            self.last_dense = tf.keras.layers.Dense(units=1,\n",
        "                                           activation=\"sigmoid\")\n",
        "        else:\n",
        "            self.last_dense = tf.keras.layers.Dense(units=model_output_classes,\n",
        "                                           activation=\"softmax\")\n",
        "    \n",
        "    def call(self, inputs, training):\n",
        "        l = self.embedding(inputs)\n",
        "        l_1 = self.cnn_layer1(l) \n",
        "        l_1 = self.pool(l_1) \n",
        "        l_2 = self.cnn_layer2(l) \n",
        "        l_2 = self.pool(l_2)\n",
        "        l_3 = self.cnn_layer3(l)\n",
        "        l_3 = self.pool(l_3) \n",
        "        \n",
        "        concatenated = tf.concat([l_1, l_2, l_3], axis=-1) # (batch_size, 3 * cnn_filters)\n",
        "        concatenated = self.dense_1(concatenated)\n",
        "        concatenated = self.dropout(concatenated, training)\n",
        "        model_output = self.last_dense(concatenated)\n",
        "        \n",
        "        return model_output"
      ],
      "execution_count": null,
      "outputs": []
    },
    {
      "cell_type": "code",
      "metadata": {
        "id": "AJh95BUhJimN"
      },
      "source": [
        "VOCAB_LENGTH = len(tokenizer.vocab)\n",
        "EMB_DIM = 200\n",
        "CNN_FILTERS = 100\n",
        "DNN_UNITS = 256\n",
        "OUTPUT_CLASSES = 18\n",
        "\n",
        "DROPOUT_RATE = 0.2\n",
        "\n",
        "NB_EPOCHS = 10\n",
        "\n",
        "\n",
        "text_model = TEXT_MODEL(vocabulary_size=VOCAB_LENGTH,\n",
        "                        embedding_dimensions=EMB_DIM,\n",
        "                        cnn_filters=CNN_FILTERS,\n",
        "                        dnn_units=DNN_UNITS,\n",
        "                        model_output_classes=OUTPUT_CLASSES,\n",
        "                        dropout_rate=DROPOUT_RATE)"
      ],
      "execution_count": null,
      "outputs": []
    },
    {
      "cell_type": "code",
      "metadata": {
        "id": "zuKT5qDUJn96"
      },
      "source": [
        "text_model.compile(loss=\"categorical_crossentropy\",\n",
        "                       optimizer=\"rmsprop\",\n",
        "                       metrics=[\"accuracy\"])"
      ],
      "execution_count": null,
      "outputs": []
    },
    {
      "cell_type": "code",
      "metadata": {
        "id": "yRDdSdwYKDES",
        "outputId": "1a75d2d6-977b-4cd8-904a-fbd614fe4e9e",
        "colab": {
          "base_uri": "https://localhost:8080/",
          "height": 357
        }
      },
      "source": [
        "history = text_model.fit(train_x, train_y, epochs=NB_EPOCHS, validation_data=(validation_x, validation_y), verbose=2)"
      ],
      "execution_count": null,
      "outputs": [
        {
          "output_type": "stream",
          "text": [
            "Epoch 1/10\n",
            "1188/1188 - 53s - loss: 1.9962 - accuracy: 0.3099 - val_loss: 1.9699 - val_accuracy: 0.3538\n",
            "Epoch 2/10\n",
            "1188/1188 - 53s - loss: 1.6928 - accuracy: 0.4213 - val_loss: 1.9828 - val_accuracy: 0.3535\n",
            "Epoch 3/10\n",
            "1188/1188 - 53s - loss: 1.4630 - accuracy: 0.5022 - val_loss: 2.0268 - val_accuracy: 0.3434\n",
            "Epoch 4/10\n",
            "1188/1188 - 53s - loss: 1.1421 - accuracy: 0.6178 - val_loss: 2.2204 - val_accuracy: 0.3296\n",
            "Epoch 5/10\n",
            "1188/1188 - 53s - loss: 0.7977 - accuracy: 0.7411 - val_loss: 2.7656 - val_accuracy: 0.3062\n",
            "Epoch 6/10\n",
            "1188/1188 - 53s - loss: 0.5116 - accuracy: 0.8351 - val_loss: 3.5907 - val_accuracy: 0.2892\n",
            "Epoch 7/10\n",
            "1188/1188 - 52s - loss: 0.3383 - accuracy: 0.8931 - val_loss: 4.1470 - val_accuracy: 0.2378\n",
            "Epoch 8/10\n",
            "1188/1188 - 53s - loss: 0.2383 - accuracy: 0.9258 - val_loss: 4.8757 - val_accuracy: 0.2424\n",
            "Epoch 9/10\n",
            "1188/1188 - 53s - loss: 0.1784 - accuracy: 0.9467 - val_loss: 5.6249 - val_accuracy: 0.2413\n",
            "Epoch 10/10\n",
            "1188/1188 - 53s - loss: 0.1452 - accuracy: 0.9571 - val_loss: 6.6971 - val_accuracy: 0.2352\n"
          ],
          "name": "stdout"
        }
      ]
    },
    {
      "cell_type": "code",
      "metadata": {
        "id": "2ardZUTyMK6k",
        "outputId": "7bd38755-0034-4f63-d948-279bd475518a",
        "colab": {
          "base_uri": "https://localhost:8080/",
          "height": 425
        }
      },
      "source": [
        "text_model.summary()"
      ],
      "execution_count": null,
      "outputs": [
        {
          "output_type": "stream",
          "text": [
            "Model: \"text_model\"\n",
            "_________________________________________________________________\n",
            "Layer (type)                 Output Shape              Param #   \n",
            "=================================================================\n",
            "embedding_1 (Embedding)      multiple                  6104400   \n",
            "_________________________________________________________________\n",
            "conv1d_3 (Conv1D)            multiple                  40100     \n",
            "_________________________________________________________________\n",
            "conv1d_4 (Conv1D)            multiple                  60100     \n",
            "_________________________________________________________________\n",
            "conv1d_5 (Conv1D)            multiple                  80100     \n",
            "_________________________________________________________________\n",
            "global_max_pooling1d_1 (Glob multiple                  0         \n",
            "_________________________________________________________________\n",
            "dense_2 (Dense)              multiple                  77056     \n",
            "_________________________________________________________________\n",
            "dropout_1 (Dropout)          multiple                  0         \n",
            "_________________________________________________________________\n",
            "dense_3 (Dense)              multiple                  4626      \n",
            "=================================================================\n",
            "Total params: 6,366,382\n",
            "Trainable params: 6,366,382\n",
            "Non-trainable params: 0\n",
            "_________________________________________________________________\n"
          ],
          "name": "stdout"
        }
      ]
    },
    {
      "cell_type": "code",
      "metadata": {
        "id": "ipeqZlXgarHv",
        "outputId": "4cd261a3-f3b5-4ae7-c8d7-eb3b77748a2c",
        "colab": {
          "base_uri": "https://localhost:8080/",
          "height": 545
        }
      },
      "source": [
        "import matplotlib.pyplot as plt\n",
        "\n",
        "def plot_graphs(history, string):\n",
        "  plt.plot(history.history[string])\n",
        "  plt.plot(history.history['val_'+string])\n",
        "  plt.xlabel(\"Epochs\")\n",
        "  plt.ylabel(string)\n",
        "  plt.legend([string, 'val_'+string])\n",
        "  plt.show()\n",
        "plot_graphs(history, \"accuracy\")\n",
        "plot_graphs(history, \"loss\")"
      ],
      "execution_count": null,
      "outputs": [
        {
          "output_type": "display_data",
          "data": {
            "image/png": "[encoded data removed]",
            "text/plain": [
              "<Figure size 432x288 with 1 Axes>"
            ]
          },
          "metadata": {
            "tags": [],
            "needs_background": "light"
          }
        },
        {
          "output_type": "display_data",
          "data": {
            "image/png": "[encoded data removed]",
            "text/plain": [
              "<Figure size 432x288 with 1 Axes>"
            ]
          },
          "metadata": {
            "tags": [],
            "needs_background": "light"
          }
        }
      ]
    },
    {
      "cell_type": "code",
      "metadata": {
        "id": "-Ljb1JGPa4aA",
        "outputId": "a818dd5b-5d5d-4351-ac9b-85f3d99b8edb",
        "colab": {
          "base_uri": "https://localhost:8080/",
          "height": 102
        }
      },
      "source": [
        "txt = \"I don't really feel like working right now.\"\n",
        "seq = [tokenize_sentences(txt)]\n",
        "\n",
        "padded = pad_sequences(seq, maxlen=max_length)\n",
        "pred = text_model.predict(padded)\n",
        "\n",
        "new_data ={j:i for i, j in dataLabels.items()}\n",
        "\n",
        "print(pred, new_data[int(pred.argmax(1))])"
      ],
      "execution_count": null,
      "outputs": [
        {
          "output_type": "stream",
          "text": [
            "[[1.56054458e-11 6.22265628e-10 5.05404607e-10 9.94750202e-01\n",
            "  2.00931177e-12 6.09965800e-10 3.30255268e-10 2.58218389e-08\n",
            "  3.28555316e-09 8.58090236e-04 4.38019121e-03 2.37760034e-07\n",
            "  8.61164699e-06 1.06967875e-08 2.03960576e-06 6.44828503e-07\n",
            "  2.05862083e-09 1.16946453e-08]] sadness\n"
          ],
          "name": "stdout"
        }
      ]
    },
    {
      "cell_type": "code",
      "metadata": {
        "id": "m3KaAH7McVDc",
        "outputId": "7ca87bc1-34ff-46da-ea10-db2832a4bc18",
        "colab": {
          "base_uri": "https://localhost:8080/",
          "height": 326
        }
      },
      "source": [
        "text_model.save(\"text_model_2\")"
      ],
      "execution_count": null,
      "outputs": [
        {
          "output_type": "error",
          "ename": "NotImplementedError",
          "evalue": "ignored",
          "traceback": [
            "\u001b[0;31m---------------------------------------------------------------------------\u001b[0m",
            "\u001b[0;31mNotImplementedError\u001b[0m                       Traceback (most recent call last)",
            "\u001b[0;32m<ipython-input-68-e88c400c0c93>\u001b[0m in \u001b[0;36m<module>\u001b[0;34m()\u001b[0m\n\u001b[0;32m----> 1\u001b[0;31m \u001b[0mtext_model\u001b[0m\u001b[0;34m.\u001b[0m\u001b[0msave\u001b[0m\u001b[0;34m(\u001b[0m\u001b[0;34m\"text_model_2.h5\"\u001b[0m\u001b[0;34m)\u001b[0m\u001b[0;34m\u001b[0m\u001b[0;34m\u001b[0m\u001b[0m\n\u001b[0m",
            "\u001b[0;32m/usr/local/lib/python3.6/dist-packages/tensorflow/python/keras/engine/network.py\u001b[0m in \u001b[0;36msave\u001b[0;34m(self, filepath, overwrite, include_optimizer, save_format, signatures, options)\u001b[0m\n\u001b[1;32m   1050\u001b[0m     \"\"\"\n\u001b[1;32m   1051\u001b[0m     save.save_model(self, filepath, overwrite, include_optimizer, save_format,\n\u001b[0;32m-> 1052\u001b[0;31m                     signatures, options)\n\u001b[0m\u001b[1;32m   1053\u001b[0m \u001b[0;34m\u001b[0m\u001b[0m\n\u001b[1;32m   1054\u001b[0m   \u001b[0;32mdef\u001b[0m \u001b[0msave_weights\u001b[0m\u001b[0;34m(\u001b[0m\u001b[0mself\u001b[0m\u001b[0;34m,\u001b[0m \u001b[0mfilepath\u001b[0m\u001b[0;34m,\u001b[0m \u001b[0moverwrite\u001b[0m\u001b[0;34m=\u001b[0m\u001b[0;32mTrue\u001b[0m\u001b[0;34m,\u001b[0m \u001b[0msave_format\u001b[0m\u001b[0;34m=\u001b[0m\u001b[0;32mNone\u001b[0m\u001b[0;34m)\u001b[0m\u001b[0;34m:\u001b[0m\u001b[0;34m\u001b[0m\u001b[0;34m\u001b[0m\u001b[0m\n",
            "\u001b[0;32m/usr/local/lib/python3.6/dist-packages/tensorflow/python/keras/saving/save.py\u001b[0m in \u001b[0;36msave_model\u001b[0;34m(model, filepath, overwrite, include_optimizer, save_format, signatures, options)\u001b[0m\n\u001b[1;32m    126\u001b[0m         not isinstance(model, sequential.Sequential)):\n\u001b[1;32m    127\u001b[0m       raise NotImplementedError(\n\u001b[0;32m--> 128\u001b[0;31m           \u001b[0;34m'Saving the model to HDF5 format requires the model to be a '\u001b[0m\u001b[0;34m\u001b[0m\u001b[0;34m\u001b[0m\u001b[0m\n\u001b[0m\u001b[1;32m    129\u001b[0m           \u001b[0;34m'Functional model or a Sequential model. It does not work for '\u001b[0m\u001b[0;34m\u001b[0m\u001b[0;34m\u001b[0m\u001b[0m\n\u001b[1;32m    130\u001b[0m           \u001b[0;34m'subclassed models, because such models are defined via the body of '\u001b[0m\u001b[0;34m\u001b[0m\u001b[0;34m\u001b[0m\u001b[0m\n",
            "\u001b[0;31mNotImplementedError\u001b[0m: Saving the model to HDF5 format requires the model to be a Functional model or a Sequential model. It does not work for subclassed models, because such models are defined via the body of a Python method, which isn't safely serializable. Consider saving to the Tensorflow SavedModel format (by setting save_format=\"tf\") or using `save_weights`."
          ]
        }
      ]
    },
    {
      "cell_type": "code",
      "metadata": {
        "id": "47CzFkn-fA2-"
      },
      "source": [
        "from tensorflow import keras\n",
        "\n",
        "reconstructed_model = keras.models.load_model(\"/content/drive/My Drive/text_model_1\")"
      ],
      "execution_count": null,
      "outputs": []
    },
    {
      "cell_type": "code",
      "metadata": {
        "id": "Jof1z84TwWrN",
        "outputId": "8deeaa15-6675-47f0-9fea-61e91ba7d1bb",
        "colab": {
          "base_uri": "https://localhost:8080/",
          "height": 102
        }
      },
      "source": [
        "txt = \"Great is thy faithfulness\"\n",
        "max_length = 200\n",
        "seq = [tokenize_sentences(txt)]\n",
        "\n",
        "padded = pad_sequences(seq, maxlen=max_length)\n",
        "#print(padded)\n",
        "pred = reconstructed_model.predict(padded)\n",
        "\n",
        "#reconstructed_model.predict(np.asarray(padded))\n",
        "\n",
        "new_data ={j:i for i, j in dataLabels.items()}\n",
        "\n",
        "print(pred, new_data[int(pred.argmax(1))])"
      ],
      "execution_count": null,
      "outputs": [
        {
          "output_type": "stream",
          "text": [
            "[[1.23299565e-03 1.44403466e-05 1.53080822e-04 1.40817985e-02\n",
            "  8.54668451e-06 7.50408844e-06 1.72525797e-05 1.49668823e-03\n",
            "  1.85970422e-02 2.54019033e-02 3.23354229e-02 1.40482839e-02\n",
            "  2.57990867e-01 2.72205081e-02 7.90514052e-04 4.70834464e-01\n",
            "  2.60939069e-05 1.35742560e-01]] happiness\n"
          ],
          "name": "stdout"
        }
      ]
    },
    {
      "cell_type": "code",
      "metadata": {
        "id": "7ab9lZVjflsC",
        "outputId": "7d8c4ff6-24b5-414a-c4e1-325f1578bad2",
        "colab": {
          "base_uri": "https://localhost:8080/",
          "height": 136
        }
      },
      "source": [
        "from google.colab import files\n",
        "#For the folder you have to zip it first and can only download later on\n",
        "#/content/text_model_1\n",
        "!zip -r model_2.zip /content/text_model_2\n",
        "#Download files\n",
        "files.download('model_2.zip')"
      ],
      "execution_count": null,
      "outputs": [
        {
          "output_type": "stream",
          "text": [
            "  adding: content/text_model_2/ (stored 0%)\n",
            "  adding: content/text_model_2/variables/ (stored 0%)\n",
            "  adding: content/text_model_2/variables/variables.index (deflated 65%)\n",
            "  adding: content/text_model_2/variables/variables.data-00000-of-00002 (deflated 31%)\n",
            "  adding: content/text_model_2/variables/variables.data-00001-of-00002 (deflated 9%)\n",
            "  adding: content/text_model_2/saved_model.pb (deflated 89%)\n",
            "  adding: content/text_model_2/assets/ (stored 0%)\n"
          ],
          "name": "stdout"
        },
        {
          "output_type": "display_data",
          "data": {
            "application/javascript": [
              "\n",
              "    async function download(id, filename, size) {\n",
              "      if (!google.colab.kernel.accessAllowed) {\n",
              "        return;\n",
              "      }\n",
              "      const div = document.createElement('div');\n",
              "      const label = document.createElement('label');\n",
              "      label.textContent = `Downloading \"${filename}\": `;\n",
              "      div.appendChild(label);\n",
              "      const progress = document.createElement('progress');\n",
              "      progress.max = size;\n",
              "      div.appendChild(progress);\n",
              "      document.body.appendChild(div);\n",
              "\n",
              "      const buffers = [];\n",
              "      let downloaded = 0;\n",
              "\n",
              "      const channel = await google.colab.kernel.comms.open(id);\n",
              "      // Send a message to notify the kernel that we're ready.\n",
              "      channel.send({})\n",
              "\n",
              "      for await (const message of channel.messages) {\n",
              "        // Send a message to notify the kernel that we're ready.\n",
              "        channel.send({})\n",
              "        if (message.buffers) {\n",
              "          for (const buffer of message.buffers) {\n",
              "            buffers.push(buffer);\n",
              "            downloaded += buffer.byteLength;\n",
              "            progress.value = downloaded;\n",
              "          }\n",
              "        }\n",
              "      }\n",
              "      const blob = new Blob(buffers, {type: 'application/binary'});\n",
              "      const a = document.createElement('a');\n",
              "      a.href = window.URL.createObjectURL(blob);\n",
              "      a.download = filename;\n",
              "      div.appendChild(a);\n",
              "      a.click();\n",
              "      div.remove();\n",
              "    }\n",
              "  "
            ],
            "text/plain": [
              "<IPython.core.display.Javascript object>"
            ]
          },
          "metadata": {
            "tags": []
          }
        },
        {
          "output_type": "display_data",
          "data": {
            "application/javascript": [
              "download(\"download_b5954373-a615-4349-a6da-3ae6397721e0\", \"model_2.zip\", 35855660)"
            ],
            "text/plain": [
              "<IPython.core.display.Javascript object>"
            ]
          },
          "metadata": {
            "tags": []
          }
        }
      ]
    },
    {
      "cell_type": "code",
      "metadata": {
        "id": "R1r360RLrBfE",
        "outputId": "72b0c883-1cc6-4772-87b8-c0f7c55e3180",
        "colab": {
          "base_uri": "https://localhost:8080/",
          "height": 289
        }
      },
      "source": [
        "model = tf.keras.Sequential([\n",
        "    # Add an Embedding layer expecting input vocab of size, and output embedding dimension of size we set at the top\n",
        "    tf.keras.layers.Embedding(len(tokenizer.vocab), 64),\n",
        "    #tf.keras.layers.Bidirectional(tf.keras.layers.LSTM(EMB_DIM)),\n",
        "    tf.keras.layers.Bidirectional(tf.keras.layers.LSTM(64)),\n",
        "    # use ReLU in place of tanh function since they are very good alternatives of each other.\n",
        "    tf.keras.layers.Dense(EMB_DIM, activation='relu'),\n",
        "    # Add a Dense layer with 18 units and softmax activation.\n",
        "    # When we have multiple outputs, softmax convert outputs layers into a probability distribution.\n",
        "    tf.keras.layers.Dense(18, activation='softmax')\n",
        "])\n",
        "model.summary()"
      ],
      "execution_count": null,
      "outputs": [
        {
          "output_type": "stream",
          "text": [
            "Model: \"sequential_3\"\n",
            "_________________________________________________________________\n",
            "Layer (type)                 Output Shape              Param #   \n",
            "=================================================================\n",
            "embedding_4 (Embedding)      (None, None, 64)          1953408   \n",
            "_________________________________________________________________\n",
            "bidirectional_3 (Bidirection (None, 128)               66048     \n",
            "_________________________________________________________________\n",
            "dense_8 (Dense)              (None, 200)               25800     \n",
            "_________________________________________________________________\n",
            "dense_9 (Dense)              (None, 18)                3618      \n",
            "=================================================================\n",
            "Total params: 2,048,874\n",
            "Trainable params: 2,048,874\n",
            "Non-trainable params: 0\n",
            "_________________________________________________________________\n"
          ],
          "name": "stdout"
        }
      ]
    },
    {
      "cell_type": "code",
      "metadata": {
        "id": "bcqTL53stXyV"
      },
      "source": [
        "model.compile(loss=\"sparse_categorical_crossentropy\",\n",
        "                       optimizer=\"adam\",\n",
        "                       metrics=[\"accuracy\"])"
      ],
      "execution_count": null,
      "outputs": []
    },
    {
      "cell_type": "code",
      "metadata": {
        "id": "VY2lKSSUtNVu",
        "outputId": "d09a4c6c-65d8-4d2c-cd1c-42ec3db1d92b",
        "colab": {
          "base_uri": "https://localhost:8080/",
          "height": 187
        }
      },
      "source": [
        "history2 = model.fit(train_x, train_y, epochs=NB_EPOCHS, validation_data=(validation_x, validation_y), verbose=2)"
      ],
      "execution_count": null,
      "outputs": [
        {
          "output_type": "stream",
          "text": [
            "Epoch 1/5\n",
            "1188/1188 - 38s - loss: 2.0835 - accuracy: 0.2644 - val_loss: 2.0818 - val_accuracy: 0.2915\n",
            "Epoch 2/5\n",
            "1188/1188 - 38s - loss: 1.8124 - accuracy: 0.3682 - val_loss: 2.0397 - val_accuracy: 0.3093\n",
            "Epoch 3/5\n",
            "1188/1188 - 39s - loss: 1.6140 - accuracy: 0.4459 - val_loss: 1.9971 - val_accuracy: 0.3385\n",
            "Epoch 4/5\n",
            "1188/1188 - 39s - loss: 1.4200 - accuracy: 0.5197 - val_loss: 2.1736 - val_accuracy: 0.3153\n",
            "Epoch 5/5\n",
            "1188/1188 - 39s - loss: 1.2355 - accuracy: 0.5870 - val_loss: 2.3775 - val_accuracy: 0.3162\n"
          ],
          "name": "stdout"
        }
      ]
    },
    {
      "cell_type": "code",
      "metadata": {
        "id": "B6lan4pg1Fmg",
        "outputId": "2edc721b-3267-4f7d-a9b6-4d58fd61c8a2",
        "colab": {
          "base_uri": "https://localhost:8080/",
          "height": 543
        }
      },
      "source": [
        "plot_graphs(history2, \"accuracy\")\n",
        "plot_graphs(history2, \"loss\")"
      ],
      "execution_count": null,
      "outputs": [
        {
          "output_type": "display_data",
          "data": {
            "image/png": "[encoded data removed]",
            "text/plain": [
              "<Figure size 432x288 with 1 Axes>"
            ]
          },
          "metadata": {
            "tags": [],
            "needs_background": "light"
          }
        },
        {
          "output_type": "display_data",
          "data": {
            "image/png": "[encoded data removed]",
            "text/plain": [
              "<Figure size 432x288 with 1 Axes>"
            ]
          },
          "metadata": {
            "tags": [],
            "needs_background": "light"
          }
        }
      ]
    },
    {
      "cell_type": "code",
      "metadata": {
        "id": "a7IPlQNd1kPA",
        "outputId": "8c6e0417-457f-4b3f-cd95-5b5b5e6f7970",
        "colab": {
          "base_uri": "https://localhost:8080/",
          "height": 68
        }
      },
      "source": [
        "txt = \"I am tired because I had a long day\"\n",
        "seq = [tokenize_sentences(txt)]\n",
        "\n",
        "padded = pad_sequences(seq, maxlen=max_length)\n",
        "pred = model.predict(padded)\n",
        "\n",
        "new_data ={j:i for i, j in dataLabels.items()}\n",
        "\n",
        "print(pred, new_data[int(pred.argmax(1))])"
      ],
      "execution_count": null,
      "outputs": [
        {
          "output_type": "stream",
          "text": [
            "[[0.00343048 0.00312649 0.00420371 0.03671944 0.0028361  0.00459542\n",
            "  0.00202645 0.14532387 0.01742799 0.6422182  0.04894297 0.01172255\n",
            "  0.01459595 0.01034112 0.00528941 0.01159973 0.00716241 0.02843775]] neutral\n"
          ],
          "name": "stdout"
        }
      ]
    }
  ]
}